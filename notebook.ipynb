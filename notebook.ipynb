{
 "cells": [
  {
   "cell_type": "markdown",
   "metadata": {
    "papermill": {
     "duration": 0.025644,
     "end_time": "2021-04-02T11:02:38.849610",
     "exception": false,
     "start_time": "2021-04-02T11:02:38.823966",
     "status": "completed"
    },
    "tags": []
   },
   "source": [
    "# Movie Recommendation System\n",
    "\n",
    "Here [MovieLens 20M Dataset](https://www.kaggle.com/grouplens/movielens-20m-dataset) by `GroupLens` is used to build `content based` and `collaborative filtering` recommendation systems.\n",
    "\n",
    "![](https://media.giphy.com/media/l3vR2SwA3hfH4NtVC/giphy.gif)"
   ]
  },
  {
   "cell_type": "code",
   "execution_count": 1,
   "metadata": {
    "execution": {
     "iopub.execute_input": "2021-04-02T11:02:38.904124Z",
     "iopub.status.busy": "2021-04-02T11:02:38.903504Z",
     "iopub.status.idle": "2021-04-02T11:02:38.906940Z",
     "shell.execute_reply": "2021-04-02T11:02:38.906162Z"
    },
    "papermill": {
     "duration": 0.032052,
     "end_time": "2021-04-02T11:02:38.907140",
     "exception": false,
     "start_time": "2021-04-02T11:02:38.875088",
     "status": "completed"
    },
    "tags": []
   },
   "outputs": [],
   "source": [
    "from math import sqrt\n",
    "\n",
    "import pandas as pd"
   ]
  },
  {
   "cell_type": "code",
   "execution_count": 2,
   "metadata": {
    "execution": {
     "iopub.execute_input": "2021-04-02T11:02:38.961915Z",
     "iopub.status.busy": "2021-04-02T11:02:38.961162Z",
     "iopub.status.idle": "2021-04-02T11:02:38.963824Z",
     "shell.execute_reply": "2021-04-02T11:02:38.964258Z"
    },
    "papermill": {
     "duration": 0.031355,
     "end_time": "2021-04-02T11:02:38.964426",
     "exception": false,
     "start_time": "2021-04-02T11:02:38.933071",
     "status": "completed"
    },
    "tags": []
   },
   "outputs": [],
   "source": [
    "# Pandas config\n",
    "def pandas_config():\n",
    "    # display 10 rows and all the columns\n",
    "    pd.set_option('display.max_rows', 20)\n",
    "    pd.set_option('display.max_columns', None)\n",
    "\n",
    "    \n",
    "pandas_config()"
   ]
  },
  {
   "cell_type": "code",
   "execution_count": 3,
   "metadata": {
    "execution": {
     "iopub.execute_input": "2021-04-02T11:02:39.017316Z",
     "iopub.status.busy": "2021-04-02T11:02:39.016599Z",
     "iopub.status.idle": "2021-04-02T11:02:39.019848Z",
     "shell.execute_reply": "2021-04-02T11:02:39.019227Z"
    },
    "papermill": {
     "duration": 0.032098,
     "end_time": "2021-04-02T11:02:39.019995",
     "exception": false,
     "start_time": "2021-04-02T11:02:38.987897",
     "status": "completed"
    },
    "tags": []
   },
   "outputs": [],
   "source": [
    "# Global path variables\n",
    "RATINGS_PATH = '/kaggle/input/movielens-20m-dataset/rating.csv'\n",
    "LINK_PATH = '/kaggle/input/movielens-20m-dataset/link.csv'\n",
    "GENOME_PATH = '/kaggle/input/movielens-20m-dataset/genome_tags.csv'\n",
    "GENOME_SCORES_PATH = '/kaggle/input/movielens-20m-dataset/genome_scores.csv'\n",
    "TAGS_PATH = '/kaggle/input/movielens-20m-dataset/tag.csv'\n",
    "MOVIE_PATH = '/kaggle/input/movielens-20m-dataset/movie.csv'"
   ]
  },
  {
   "cell_type": "code",
   "execution_count": 4,
   "metadata": {
    "execution": {
     "iopub.execute_input": "2021-04-02T11:02:39.074542Z",
     "iopub.status.busy": "2021-04-02T11:02:39.073863Z",
     "iopub.status.idle": "2021-04-02T11:03:04.366575Z",
     "shell.execute_reply": "2021-04-02T11:03:04.365650Z"
    },
    "papermill": {
     "duration": 25.322381,
     "end_time": "2021-04-02T11:03:04.366731",
     "exception": false,
     "start_time": "2021-04-02T11:02:39.044350",
     "status": "completed"
    },
    "tags": []
   },
   "outputs": [],
   "source": [
    "movies_df = pd.read_csv(MOVIE_PATH)\n",
    "ratings_df = pd.read_csv(RATINGS_PATH)"
   ]
  },
  {
   "cell_type": "code",
   "execution_count": 5,
   "metadata": {
    "execution": {
     "iopub.execute_input": "2021-04-02T11:03:04.417815Z",
     "iopub.status.busy": "2021-04-02T11:03:04.417187Z",
     "iopub.status.idle": "2021-04-02T11:03:04.449846Z",
     "shell.execute_reply": "2021-04-02T11:03:04.449277Z"
    },
    "papermill": {
     "duration": 0.059243,
     "end_time": "2021-04-02T11:03:04.449982",
     "exception": false,
     "start_time": "2021-04-02T11:03:04.390739",
     "status": "completed"
    },
    "tags": []
   },
   "outputs": [
    {
     "data": {
      "text/html": [
       "<div>\n",
       "<style scoped>\n",
       "    .dataframe tbody tr th:only-of-type {\n",
       "        vertical-align: middle;\n",
       "    }\n",
       "\n",
       "    .dataframe tbody tr th {\n",
       "        vertical-align: top;\n",
       "    }\n",
       "\n",
       "    .dataframe thead th {\n",
       "        text-align: right;\n",
       "    }\n",
       "</style>\n",
       "<table border=\"1\" class=\"dataframe\">\n",
       "  <thead>\n",
       "    <tr style=\"text-align: right;\">\n",
       "      <th></th>\n",
       "      <th>movieId</th>\n",
       "      <th>title</th>\n",
       "      <th>genres</th>\n",
       "    </tr>\n",
       "  </thead>\n",
       "  <tbody>\n",
       "    <tr>\n",
       "      <th>17094</th>\n",
       "      <td>86541</td>\n",
       "      <td>To the Sea (Alamar) (2009)</td>\n",
       "      <td>Drama</td>\n",
       "    </tr>\n",
       "    <tr>\n",
       "      <th>10153</th>\n",
       "      <td>33683</td>\n",
       "      <td>High Tension (Haute tension) (Switchblade Roma...</td>\n",
       "      <td>Horror|Thriller</td>\n",
       "    </tr>\n",
       "    <tr>\n",
       "      <th>4927</th>\n",
       "      <td>5023</td>\n",
       "      <td>Waterdance, The (1992)</td>\n",
       "      <td>Drama</td>\n",
       "    </tr>\n",
       "    <tr>\n",
       "      <th>1877</th>\n",
       "      <td>1961</td>\n",
       "      <td>Rain Man (1988)</td>\n",
       "      <td>Drama</td>\n",
       "    </tr>\n",
       "    <tr>\n",
       "      <th>12775</th>\n",
       "      <td>60229</td>\n",
       "      <td>Unholy Three, The (1930)</td>\n",
       "      <td>Crime|Drama</td>\n",
       "    </tr>\n",
       "  </tbody>\n",
       "</table>\n",
       "</div>"
      ],
      "text/plain": [
       "       movieId                                              title  \\\n",
       "17094    86541                         To the Sea (Alamar) (2009)   \n",
       "10153    33683  High Tension (Haute tension) (Switchblade Roma...   \n",
       "4927      5023                             Waterdance, The (1992)   \n",
       "1877      1961                                    Rain Man (1988)   \n",
       "12775    60229                           Unholy Three, The (1930)   \n",
       "\n",
       "                genres  \n",
       "17094            Drama  \n",
       "10153  Horror|Thriller  \n",
       "4927             Drama  \n",
       "1877             Drama  \n",
       "12775      Crime|Drama  "
      ]
     },
     "execution_count": 5,
     "metadata": {},
     "output_type": "execute_result"
    }
   ],
   "source": [
    "movies_df.sample(5)"
   ]
  },
  {
   "cell_type": "code",
   "execution_count": 6,
   "metadata": {
    "execution": {
     "iopub.execute_input": "2021-04-02T11:03:04.504713Z",
     "iopub.status.busy": "2021-04-02T11:03:04.503314Z",
     "iopub.status.idle": "2021-04-02T11:03:05.537698Z",
     "shell.execute_reply": "2021-04-02T11:03:05.537079Z"
    },
    "papermill": {
     "duration": 1.063293,
     "end_time": "2021-04-02T11:03:05.537853",
     "exception": false,
     "start_time": "2021-04-02T11:03:04.474560",
     "status": "completed"
    },
    "tags": []
   },
   "outputs": [
    {
     "data": {
      "text/html": [
       "<div>\n",
       "<style scoped>\n",
       "    .dataframe tbody tr th:only-of-type {\n",
       "        vertical-align: middle;\n",
       "    }\n",
       "\n",
       "    .dataframe tbody tr th {\n",
       "        vertical-align: top;\n",
       "    }\n",
       "\n",
       "    .dataframe thead th {\n",
       "        text-align: right;\n",
       "    }\n",
       "</style>\n",
       "<table border=\"1\" class=\"dataframe\">\n",
       "  <thead>\n",
       "    <tr style=\"text-align: right;\">\n",
       "      <th></th>\n",
       "      <th>userId</th>\n",
       "      <th>movieId</th>\n",
       "      <th>rating</th>\n",
       "      <th>timestamp</th>\n",
       "    </tr>\n",
       "  </thead>\n",
       "  <tbody>\n",
       "    <tr>\n",
       "      <th>3185161</th>\n",
       "      <td>21755</td>\n",
       "      <td>44</td>\n",
       "      <td>4.0</td>\n",
       "      <td>1996-06-21 13:01:03</td>\n",
       "    </tr>\n",
       "    <tr>\n",
       "      <th>14498697</th>\n",
       "      <td>100203</td>\n",
       "      <td>282</td>\n",
       "      <td>5.0</td>\n",
       "      <td>2005-04-08 14:47:06</td>\n",
       "    </tr>\n",
       "    <tr>\n",
       "      <th>1125606</th>\n",
       "      <td>7678</td>\n",
       "      <td>329</td>\n",
       "      <td>2.0</td>\n",
       "      <td>1996-10-19 03:52:49</td>\n",
       "    </tr>\n",
       "    <tr>\n",
       "      <th>4109530</th>\n",
       "      <td>27949</td>\n",
       "      <td>1375</td>\n",
       "      <td>4.0</td>\n",
       "      <td>1999-01-19 00:17:43</td>\n",
       "    </tr>\n",
       "    <tr>\n",
       "      <th>1971903</th>\n",
       "      <td>13371</td>\n",
       "      <td>63082</td>\n",
       "      <td>4.5</td>\n",
       "      <td>2009-06-14 05:42:55</td>\n",
       "    </tr>\n",
       "  </tbody>\n",
       "</table>\n",
       "</div>"
      ],
      "text/plain": [
       "          userId  movieId  rating            timestamp\n",
       "3185161    21755       44     4.0  1996-06-21 13:01:03\n",
       "14498697  100203      282     5.0  2005-04-08 14:47:06\n",
       "1125606     7678      329     2.0  1996-10-19 03:52:49\n",
       "4109530    27949     1375     4.0  1999-01-19 00:17:43\n",
       "1971903    13371    63082     4.5  2009-06-14 05:42:55"
      ]
     },
     "execution_count": 6,
     "metadata": {},
     "output_type": "execute_result"
    }
   ],
   "source": [
    "ratings_df.sample(5)"
   ]
  },
  {
   "cell_type": "markdown",
   "metadata": {
    "papermill": {
     "duration": 0.024343,
     "end_time": "2021-04-02T11:03:05.587948",
     "exception": false,
     "start_time": "2021-04-02T11:03:05.563605",
     "status": "completed"
    },
    "tags": []
   },
   "source": [
    "## 🎻 Data Preparation"
   ]
  },
  {
   "cell_type": "markdown",
   "metadata": {
    "papermill": {
     "duration": 0.025161,
     "end_time": "2021-04-02T11:03:05.638925",
     "exception": false,
     "start_time": "2021-04-02T11:03:05.613764",
     "status": "completed"
    },
    "tags": []
   },
   "source": [
    "### Cleaning the `movie_df`"
   ]
  },
  {
   "cell_type": "code",
   "execution_count": 7,
   "metadata": {
    "execution": {
     "iopub.execute_input": "2021-04-02T11:03:05.718501Z",
     "iopub.status.busy": "2021-04-02T11:03:05.712829Z",
     "iopub.status.idle": "2021-04-02T11:03:05.815739Z",
     "shell.execute_reply": "2021-04-02T11:03:05.815085Z"
    },
    "papermill": {
     "duration": 0.151816,
     "end_time": "2021-04-02T11:03:05.815886",
     "exception": false,
     "start_time": "2021-04-02T11:03:05.664070",
     "status": "completed"
    },
    "tags": []
   },
   "outputs": [
    {
     "data": {
      "text/html": [
       "<div>\n",
       "<style scoped>\n",
       "    .dataframe tbody tr th:only-of-type {\n",
       "        vertical-align: middle;\n",
       "    }\n",
       "\n",
       "    .dataframe tbody tr th {\n",
       "        vertical-align: top;\n",
       "    }\n",
       "\n",
       "    .dataframe thead th {\n",
       "        text-align: right;\n",
       "    }\n",
       "</style>\n",
       "<table border=\"1\" class=\"dataframe\">\n",
       "  <thead>\n",
       "    <tr style=\"text-align: right;\">\n",
       "      <th></th>\n",
       "      <th>movieId</th>\n",
       "      <th>title</th>\n",
       "      <th>genres</th>\n",
       "      <th>year</th>\n",
       "    </tr>\n",
       "  </thead>\n",
       "  <tbody>\n",
       "    <tr>\n",
       "      <th>6851</th>\n",
       "      <td>6963</td>\n",
       "      <td>Devil's Playground</td>\n",
       "      <td>Documentary</td>\n",
       "      <td>2002</td>\n",
       "    </tr>\n",
       "    <tr>\n",
       "      <th>26524</th>\n",
       "      <td>127204</td>\n",
       "      <td>The Overnight</td>\n",
       "      <td>Comedy</td>\n",
       "      <td>2015</td>\n",
       "    </tr>\n",
       "    <tr>\n",
       "      <th>21002</th>\n",
       "      <td>102481</td>\n",
       "      <td>Internship, The</td>\n",
       "      <td>Comedy</td>\n",
       "      <td>2013</td>\n",
       "    </tr>\n",
       "    <tr>\n",
       "      <th>22041</th>\n",
       "      <td>106226</td>\n",
       "      <td>Clandestine Childhood</td>\n",
       "      <td>Drama</td>\n",
       "      <td>2011</td>\n",
       "    </tr>\n",
       "    <tr>\n",
       "      <th>24636</th>\n",
       "      <td>116507</td>\n",
       "      <td>Mission London</td>\n",
       "      <td>Comedy</td>\n",
       "      <td>2010</td>\n",
       "    </tr>\n",
       "  </tbody>\n",
       "</table>\n",
       "</div>"
      ],
      "text/plain": [
       "       movieId                  title       genres  year\n",
       "6851      6963     Devil's Playground  Documentary  2002\n",
       "26524   127204          The Overnight       Comedy  2015\n",
       "21002   102481        Internship, The       Comedy  2013\n",
       "22041   106226  Clandestine Childhood        Drama  2011\n",
       "24636   116507         Mission London       Comedy  2010"
      ]
     },
     "execution_count": 7,
     "metadata": {},
     "output_type": "execute_result"
    }
   ],
   "source": [
    "# Remove the years from the title of `movies_df`\n",
    "def rm_dates_from_title(df: pd.DataFrame):\n",
    "    # Using regular expressions to find a year stored between parentheses\n",
    "\n",
    "    # We specify the parantheses so we don't conflict with movies that have years in their titles\n",
    "    df['year'] = df.title.str.extract('(\\(\\d\\d\\d\\d\\))', expand=False)\n",
    "\n",
    "    # Removing the parentheses\n",
    "    df['year'] = df.year.str.extract('(\\d\\d\\d\\d)', expand=False)\n",
    "\n",
    "    # Removing the years from the 'title' column\n",
    "    df['title'] = df.title.str.replace('(\\(\\d\\d\\d\\d\\))', '', regex=True)\n",
    "\n",
    "    # Applying the strip function to get rid of any ending whitespace characters that may have appeared\n",
    "    df['title'] = df.title.apply(lambda x: x.strip())\n",
    "\n",
    "    \n",
    "rm_dates_from_title(movies_df)\n",
    "movies_df.sample(5)"
   ]
  },
  {
   "cell_type": "code",
   "execution_count": 8,
   "metadata": {
    "execution": {
     "iopub.execute_input": "2021-04-02T11:03:05.902340Z",
     "iopub.status.busy": "2021-04-02T11:03:05.901289Z",
     "iopub.status.idle": "2021-04-02T11:03:05.906203Z",
     "shell.execute_reply": "2021-04-02T11:03:05.905618Z"
    },
    "papermill": {
     "duration": 0.062943,
     "end_time": "2021-04-02T11:03:05.906347",
     "exception": false,
     "start_time": "2021-04-02T11:03:05.843404",
     "status": "completed"
    },
    "tags": []
   },
   "outputs": [
    {
     "data": {
      "text/html": [
       "<div>\n",
       "<style scoped>\n",
       "    .dataframe tbody tr th:only-of-type {\n",
       "        vertical-align: middle;\n",
       "    }\n",
       "\n",
       "    .dataframe tbody tr th {\n",
       "        vertical-align: top;\n",
       "    }\n",
       "\n",
       "    .dataframe thead th {\n",
       "        text-align: right;\n",
       "    }\n",
       "</style>\n",
       "<table border=\"1\" class=\"dataframe\">\n",
       "  <thead>\n",
       "    <tr style=\"text-align: right;\">\n",
       "      <th></th>\n",
       "      <th>movieId</th>\n",
       "      <th>title</th>\n",
       "      <th>genres</th>\n",
       "      <th>year</th>\n",
       "    </tr>\n",
       "  </thead>\n",
       "  <tbody>\n",
       "    <tr>\n",
       "      <th>1717</th>\n",
       "      <td>1789</td>\n",
       "      <td>Sadness of Sex, The</td>\n",
       "      <td>[Drama]</td>\n",
       "      <td>1995</td>\n",
       "    </tr>\n",
       "    <tr>\n",
       "      <th>722</th>\n",
       "      <td>734</td>\n",
       "      <td>Getting Away With Murder</td>\n",
       "      <td>[Comedy]</td>\n",
       "      <td>1996</td>\n",
       "    </tr>\n",
       "    <tr>\n",
       "      <th>7198</th>\n",
       "      <td>7310</td>\n",
       "      <td>Raw Deal</td>\n",
       "      <td>[Action]</td>\n",
       "      <td>1986</td>\n",
       "    </tr>\n",
       "    <tr>\n",
       "      <th>990</th>\n",
       "      <td>1009</td>\n",
       "      <td>Escape to Witch Mountain</td>\n",
       "      <td>[Adventure, Children, Fantasy]</td>\n",
       "      <td>1975</td>\n",
       "    </tr>\n",
       "    <tr>\n",
       "      <th>25475</th>\n",
       "      <td>120534</td>\n",
       "      <td>A Master Builder</td>\n",
       "      <td>[Drama]</td>\n",
       "      <td>2013</td>\n",
       "    </tr>\n",
       "  </tbody>\n",
       "</table>\n",
       "</div>"
      ],
      "text/plain": [
       "       movieId                     title                          genres  year\n",
       "1717      1789       Sadness of Sex, The                         [Drama]  1995\n",
       "722        734  Getting Away With Murder                        [Comedy]  1996\n",
       "7198      7310                  Raw Deal                        [Action]  1986\n",
       "990       1009  Escape to Witch Mountain  [Adventure, Children, Fantasy]  1975\n",
       "25475   120534          A Master Builder                         [Drama]  2013"
      ]
     },
     "execution_count": 8,
     "metadata": {},
     "output_type": "execute_result"
    }
   ],
   "source": [
    "# Every genre is separated by a | so we simply have to call the split function on |\n",
    "movies_df.genres = movies_df.genres.str.split('|')\n",
    "movies_df.sample(5)"
   ]
  },
  {
   "cell_type": "markdown",
   "metadata": {
    "papermill": {
     "duration": 0.025699,
     "end_time": "2021-04-02T11:03:05.957810",
     "exception": false,
     "start_time": "2021-04-02T11:03:05.932111",
     "status": "completed"
    },
    "tags": []
   },
   "source": [
    "Since keeping genres in a list format isn't optimal for the content-based recommendation system technique, we will use the `One Hot Encoding` technique to convert the list of genres to a vector where each column corresponds to one possible value of the feature. \n",
    "\n",
    "This encoding is needed for feeding categorical data. In this case, we store every different genre in columns that contain either 1 or 0. `1 shows that a movie has that genre and 0 shows that it doesn't`. Let's also store this dataframe in another variable since genres won't be important for our first recommendation system"
   ]
  },
  {
   "cell_type": "code",
   "execution_count": 9,
   "metadata": {
    "execution": {
     "iopub.execute_input": "2021-04-02T11:03:06.019250Z",
     "iopub.status.busy": "2021-04-02T11:03:06.018083Z",
     "iopub.status.idle": "2021-04-02T11:03:08.974779Z",
     "shell.execute_reply": "2021-04-02T11:03:08.975286Z"
    },
    "papermill": {
     "duration": 2.991393,
     "end_time": "2021-04-02T11:03:08.975483",
     "exception": false,
     "start_time": "2021-04-02T11:03:05.984090",
     "status": "completed"
    },
    "tags": []
   },
   "outputs": [
    {
     "data": {
      "text/html": [
       "<div>\n",
       "<style scoped>\n",
       "    .dataframe tbody tr th:only-of-type {\n",
       "        vertical-align: middle;\n",
       "    }\n",
       "\n",
       "    .dataframe tbody tr th {\n",
       "        vertical-align: top;\n",
       "    }\n",
       "\n",
       "    .dataframe thead th {\n",
       "        text-align: right;\n",
       "    }\n",
       "</style>\n",
       "<table border=\"1\" class=\"dataframe\">\n",
       "  <thead>\n",
       "    <tr style=\"text-align: right;\">\n",
       "      <th></th>\n",
       "      <th>movieId</th>\n",
       "      <th>title</th>\n",
       "      <th>genres</th>\n",
       "      <th>year</th>\n",
       "      <th>Adventure</th>\n",
       "      <th>Animation</th>\n",
       "      <th>Children</th>\n",
       "      <th>Comedy</th>\n",
       "      <th>Fantasy</th>\n",
       "      <th>Romance</th>\n",
       "      <th>Drama</th>\n",
       "      <th>Action</th>\n",
       "      <th>Crime</th>\n",
       "      <th>Thriller</th>\n",
       "      <th>Horror</th>\n",
       "      <th>Mystery</th>\n",
       "      <th>Sci-Fi</th>\n",
       "      <th>IMAX</th>\n",
       "      <th>Documentary</th>\n",
       "      <th>War</th>\n",
       "      <th>Musical</th>\n",
       "      <th>Western</th>\n",
       "      <th>Film-Noir</th>\n",
       "      <th>(no genres listed)</th>\n",
       "    </tr>\n",
       "  </thead>\n",
       "  <tbody>\n",
       "    <tr>\n",
       "      <th>21803</th>\n",
       "      <td>105364</td>\n",
       "      <td>Something in the Air (Apres Mai)</td>\n",
       "      <td>[Action, Drama]</td>\n",
       "      <td>2012</td>\n",
       "      <td>0.0</td>\n",
       "      <td>0.0</td>\n",
       "      <td>0.0</td>\n",
       "      <td>0.0</td>\n",
       "      <td>0.0</td>\n",
       "      <td>0.0</td>\n",
       "      <td>1.0</td>\n",
       "      <td>1.0</td>\n",
       "      <td>0.0</td>\n",
       "      <td>0.0</td>\n",
       "      <td>0.0</td>\n",
       "      <td>0.0</td>\n",
       "      <td>0.0</td>\n",
       "      <td>0.0</td>\n",
       "      <td>0.0</td>\n",
       "      <td>0.0</td>\n",
       "      <td>0.0</td>\n",
       "      <td>0.0</td>\n",
       "      <td>0.0</td>\n",
       "      <td>0.0</td>\n",
       "    </tr>\n",
       "    <tr>\n",
       "      <th>19434</th>\n",
       "      <td>96496</td>\n",
       "      <td>6 Bullets</td>\n",
       "      <td>[Action, Crime, Thriller]</td>\n",
       "      <td>2012</td>\n",
       "      <td>0.0</td>\n",
       "      <td>0.0</td>\n",
       "      <td>0.0</td>\n",
       "      <td>0.0</td>\n",
       "      <td>0.0</td>\n",
       "      <td>0.0</td>\n",
       "      <td>0.0</td>\n",
       "      <td>1.0</td>\n",
       "      <td>1.0</td>\n",
       "      <td>1.0</td>\n",
       "      <td>0.0</td>\n",
       "      <td>0.0</td>\n",
       "      <td>0.0</td>\n",
       "      <td>0.0</td>\n",
       "      <td>0.0</td>\n",
       "      <td>0.0</td>\n",
       "      <td>0.0</td>\n",
       "      <td>0.0</td>\n",
       "      <td>0.0</td>\n",
       "      <td>0.0</td>\n",
       "    </tr>\n",
       "    <tr>\n",
       "      <th>12658</th>\n",
       "      <td>59519</td>\n",
       "      <td>Reprise</td>\n",
       "      <td>[Drama]</td>\n",
       "      <td>2006</td>\n",
       "      <td>0.0</td>\n",
       "      <td>0.0</td>\n",
       "      <td>0.0</td>\n",
       "      <td>0.0</td>\n",
       "      <td>0.0</td>\n",
       "      <td>0.0</td>\n",
       "      <td>1.0</td>\n",
       "      <td>0.0</td>\n",
       "      <td>0.0</td>\n",
       "      <td>0.0</td>\n",
       "      <td>0.0</td>\n",
       "      <td>0.0</td>\n",
       "      <td>0.0</td>\n",
       "      <td>0.0</td>\n",
       "      <td>0.0</td>\n",
       "      <td>0.0</td>\n",
       "      <td>0.0</td>\n",
       "      <td>0.0</td>\n",
       "      <td>0.0</td>\n",
       "      <td>0.0</td>\n",
       "    </tr>\n",
       "    <tr>\n",
       "      <th>20083</th>\n",
       "      <td>98963</td>\n",
       "      <td>Neighbouring Sounds (O som ao redor)</td>\n",
       "      <td>[Drama, Thriller]</td>\n",
       "      <td>2012</td>\n",
       "      <td>0.0</td>\n",
       "      <td>0.0</td>\n",
       "      <td>0.0</td>\n",
       "      <td>0.0</td>\n",
       "      <td>0.0</td>\n",
       "      <td>0.0</td>\n",
       "      <td>1.0</td>\n",
       "      <td>0.0</td>\n",
       "      <td>0.0</td>\n",
       "      <td>1.0</td>\n",
       "      <td>0.0</td>\n",
       "      <td>0.0</td>\n",
       "      <td>0.0</td>\n",
       "      <td>0.0</td>\n",
       "      <td>0.0</td>\n",
       "      <td>0.0</td>\n",
       "      <td>0.0</td>\n",
       "      <td>0.0</td>\n",
       "      <td>0.0</td>\n",
       "      <td>0.0</td>\n",
       "    </tr>\n",
       "    <tr>\n",
       "      <th>23107</th>\n",
       "      <td>110173</td>\n",
       "      <td>Wolf</td>\n",
       "      <td>[Crime, Drama, Thriller]</td>\n",
       "      <td>2013</td>\n",
       "      <td>0.0</td>\n",
       "      <td>0.0</td>\n",
       "      <td>0.0</td>\n",
       "      <td>0.0</td>\n",
       "      <td>0.0</td>\n",
       "      <td>0.0</td>\n",
       "      <td>1.0</td>\n",
       "      <td>0.0</td>\n",
       "      <td>1.0</td>\n",
       "      <td>1.0</td>\n",
       "      <td>0.0</td>\n",
       "      <td>0.0</td>\n",
       "      <td>0.0</td>\n",
       "      <td>0.0</td>\n",
       "      <td>0.0</td>\n",
       "      <td>0.0</td>\n",
       "      <td>0.0</td>\n",
       "      <td>0.0</td>\n",
       "      <td>0.0</td>\n",
       "      <td>0.0</td>\n",
       "    </tr>\n",
       "  </tbody>\n",
       "</table>\n",
       "</div>"
      ],
      "text/plain": [
       "       movieId                                 title  \\\n",
       "21803   105364      Something in the Air (Apres Mai)   \n",
       "19434    96496                             6 Bullets   \n",
       "12658    59519                               Reprise   \n",
       "20083    98963  Neighbouring Sounds (O som ao redor)   \n",
       "23107   110173                                  Wolf   \n",
       "\n",
       "                          genres  year  Adventure  Animation  Children  \\\n",
       "21803            [Action, Drama]  2012        0.0        0.0       0.0   \n",
       "19434  [Action, Crime, Thriller]  2012        0.0        0.0       0.0   \n",
       "12658                    [Drama]  2006        0.0        0.0       0.0   \n",
       "20083          [Drama, Thriller]  2012        0.0        0.0       0.0   \n",
       "23107   [Crime, Drama, Thriller]  2013        0.0        0.0       0.0   \n",
       "\n",
       "       Comedy  Fantasy  Romance  Drama  Action  Crime  Thriller  Horror  \\\n",
       "21803     0.0      0.0      0.0    1.0     1.0    0.0       0.0     0.0   \n",
       "19434     0.0      0.0      0.0    0.0     1.0    1.0       1.0     0.0   \n",
       "12658     0.0      0.0      0.0    1.0     0.0    0.0       0.0     0.0   \n",
       "20083     0.0      0.0      0.0    1.0     0.0    0.0       1.0     0.0   \n",
       "23107     0.0      0.0      0.0    1.0     0.0    1.0       1.0     0.0   \n",
       "\n",
       "       Mystery  Sci-Fi  IMAX  Documentary  War  Musical  Western  Film-Noir  \\\n",
       "21803      0.0     0.0   0.0          0.0  0.0      0.0      0.0        0.0   \n",
       "19434      0.0     0.0   0.0          0.0  0.0      0.0      0.0        0.0   \n",
       "12658      0.0     0.0   0.0          0.0  0.0      0.0      0.0        0.0   \n",
       "20083      0.0     0.0   0.0          0.0  0.0      0.0      0.0        0.0   \n",
       "23107      0.0     0.0   0.0          0.0  0.0      0.0      0.0        0.0   \n",
       "\n",
       "       (no genres listed)  \n",
       "21803                 0.0  \n",
       "19434                 0.0  \n",
       "12658                 0.0  \n",
       "20083                 0.0  \n",
       "23107                 0.0  "
      ]
     },
     "execution_count": 9,
     "metadata": {},
     "output_type": "execute_result"
    }
   ],
   "source": [
    "# one-hot-encode movies_df's genres column\n",
    "def one_hot_encode_genres(df: pd.DataFrame):\n",
    "    # Copying the movie dataframe into a new one since we won't need to use\n",
    "    # the genre information in our content-based recommendation system.\n",
    "    movies_with_genres_df = df.copy()\n",
    "\n",
    "    # For every row in the dataframe, iterate through the list of genres and place\n",
    "    # a 1 into the corresponding column\n",
    "    for index, row in df.iterrows():\n",
    "        for genre in row.genres:\n",
    "            movies_with_genres_df.at[index, genre] = 1\n",
    "\n",
    "    # Filling in the NaN values with 0 to show that a movie doesn't have that column's genre\n",
    "    movies_with_genres_df.fillna(0, inplace=True)\n",
    "\n",
    "    return movies_with_genres_df\n",
    "\n",
    "\n",
    "movies_with_genres_df = one_hot_encode_genres(movies_df)\n",
    "movies_with_genres_df.sample(5)"
   ]
  },
  {
   "cell_type": "markdown",
   "metadata": {
    "papermill": {
     "duration": 0.027665,
     "end_time": "2021-04-02T11:03:09.031233",
     "exception": false,
     "start_time": "2021-04-02T11:03:09.003568",
     "status": "completed"
    },
    "tags": []
   },
   "source": [
    "### Cleaning the `rating_df`"
   ]
  },
  {
   "cell_type": "code",
   "execution_count": 10,
   "metadata": {
    "execution": {
     "iopub.execute_input": "2021-04-02T11:03:09.090480Z",
     "iopub.status.busy": "2021-04-02T11:03:09.089133Z",
     "iopub.status.idle": "2021-04-02T11:03:10.091826Z",
     "shell.execute_reply": "2021-04-02T11:03:10.092313Z"
    },
    "papermill": {
     "duration": 1.034809,
     "end_time": "2021-04-02T11:03:10.092769",
     "exception": false,
     "start_time": "2021-04-02T11:03:09.057960",
     "status": "completed"
    },
    "tags": []
   },
   "outputs": [
    {
     "data": {
      "text/html": [
       "<div>\n",
       "<style scoped>\n",
       "    .dataframe tbody tr th:only-of-type {\n",
       "        vertical-align: middle;\n",
       "    }\n",
       "\n",
       "    .dataframe tbody tr th {\n",
       "        vertical-align: top;\n",
       "    }\n",
       "\n",
       "    .dataframe thead th {\n",
       "        text-align: right;\n",
       "    }\n",
       "</style>\n",
       "<table border=\"1\" class=\"dataframe\">\n",
       "  <thead>\n",
       "    <tr style=\"text-align: right;\">\n",
       "      <th></th>\n",
       "      <th>userId</th>\n",
       "      <th>movieId</th>\n",
       "      <th>rating</th>\n",
       "      <th>timestamp</th>\n",
       "    </tr>\n",
       "  </thead>\n",
       "  <tbody>\n",
       "    <tr>\n",
       "      <th>2102763</th>\n",
       "      <td>14231</td>\n",
       "      <td>364</td>\n",
       "      <td>3.0</td>\n",
       "      <td>2005-10-29 12:20:15</td>\n",
       "    </tr>\n",
       "    <tr>\n",
       "      <th>10962248</th>\n",
       "      <td>75810</td>\n",
       "      <td>3727</td>\n",
       "      <td>4.0</td>\n",
       "      <td>2009-09-19 07:33:26</td>\n",
       "    </tr>\n",
       "    <tr>\n",
       "      <th>3175496</th>\n",
       "      <td>21677</td>\n",
       "      <td>508</td>\n",
       "      <td>3.5</td>\n",
       "      <td>2008-05-07 16:02:25</td>\n",
       "    </tr>\n",
       "    <tr>\n",
       "      <th>8503341</th>\n",
       "      <td>58720</td>\n",
       "      <td>5323</td>\n",
       "      <td>2.5</td>\n",
       "      <td>2005-12-25 23:03:11</td>\n",
       "    </tr>\n",
       "    <tr>\n",
       "      <th>1284760</th>\n",
       "      <td>8751</td>\n",
       "      <td>2692</td>\n",
       "      <td>4.0</td>\n",
       "      <td>2004-02-15 15:44:13</td>\n",
       "    </tr>\n",
       "  </tbody>\n",
       "</table>\n",
       "</div>"
      ],
      "text/plain": [
       "          userId  movieId  rating            timestamp\n",
       "2102763    14231      364     3.0  2005-10-29 12:20:15\n",
       "10962248   75810     3727     4.0  2009-09-19 07:33:26\n",
       "3175496    21677      508     3.5  2008-05-07 16:02:25\n",
       "8503341    58720     5323     2.5  2005-12-25 23:03:11\n",
       "1284760     8751     2692     4.0  2004-02-15 15:44:13"
      ]
     },
     "execution_count": 10,
     "metadata": {},
     "output_type": "execute_result"
    }
   ],
   "source": [
    "ratings_df.sample(5)"
   ]
  },
  {
   "cell_type": "markdown",
   "metadata": {
    "papermill": {
     "duration": 0.028419,
     "end_time": "2021-04-02T11:03:10.148837",
     "exception": false,
     "start_time": "2021-04-02T11:03:10.120418",
     "status": "completed"
    },
    "tags": []
   },
   "source": [
    "Every row in the ratings dataframe has a user id associated with at least one movie, a rating and a timestamp showing when they reviewed it. We won't be needing the `timestamp column`, so let's drop it to save on memory."
   ]
  },
  {
   "cell_type": "code",
   "execution_count": 11,
   "metadata": {
    "execution": {
     "iopub.execute_input": "2021-04-02T11:03:10.724874Z",
     "iopub.status.busy": "2021-04-02T11:03:10.723530Z",
     "iopub.status.idle": "2021-04-02T11:03:11.826214Z",
     "shell.execute_reply": "2021-04-02T11:03:11.825556Z"
    },
    "papermill": {
     "duration": 1.650469,
     "end_time": "2021-04-02T11:03:11.826354",
     "exception": false,
     "start_time": "2021-04-02T11:03:10.175885",
     "status": "completed"
    },
    "tags": []
   },
   "outputs": [
    {
     "data": {
      "text/html": [
       "<div>\n",
       "<style scoped>\n",
       "    .dataframe tbody tr th:only-of-type {\n",
       "        vertical-align: middle;\n",
       "    }\n",
       "\n",
       "    .dataframe tbody tr th {\n",
       "        vertical-align: top;\n",
       "    }\n",
       "\n",
       "    .dataframe thead th {\n",
       "        text-align: right;\n",
       "    }\n",
       "</style>\n",
       "<table border=\"1\" class=\"dataframe\">\n",
       "  <thead>\n",
       "    <tr style=\"text-align: right;\">\n",
       "      <th></th>\n",
       "      <th>userId</th>\n",
       "      <th>movieId</th>\n",
       "      <th>rating</th>\n",
       "    </tr>\n",
       "  </thead>\n",
       "  <tbody>\n",
       "    <tr>\n",
       "      <th>10172883</th>\n",
       "      <td>70379</td>\n",
       "      <td>1291</td>\n",
       "      <td>4.5</td>\n",
       "    </tr>\n",
       "    <tr>\n",
       "      <th>7160381</th>\n",
       "      <td>49355</td>\n",
       "      <td>31694</td>\n",
       "      <td>4.0</td>\n",
       "    </tr>\n",
       "    <tr>\n",
       "      <th>13354652</th>\n",
       "      <td>92290</td>\n",
       "      <td>3500</td>\n",
       "      <td>4.0</td>\n",
       "    </tr>\n",
       "    <tr>\n",
       "      <th>3728946</th>\n",
       "      <td>25383</td>\n",
       "      <td>6250</td>\n",
       "      <td>2.0</td>\n",
       "    </tr>\n",
       "    <tr>\n",
       "      <th>6549870</th>\n",
       "      <td>45027</td>\n",
       "      <td>1615</td>\n",
       "      <td>3.5</td>\n",
       "    </tr>\n",
       "  </tbody>\n",
       "</table>\n",
       "</div>"
      ],
      "text/plain": [
       "          userId  movieId  rating\n",
       "10172883   70379     1291     4.5\n",
       "7160381    49355    31694     4.0\n",
       "13354652   92290     3500     4.0\n",
       "3728946    25383     6250     2.0\n",
       "6549870    45027     1615     3.5"
      ]
     },
     "execution_count": 11,
     "metadata": {},
     "output_type": "execute_result"
    }
   ],
   "source": [
    "# Drop removes a specified row or column from a dataframe\n",
    "ratings_df.drop('timestamp', axis='columns', inplace=True)\n",
    "ratings_df.sample(5)"
   ]
  },
  {
   "cell_type": "code",
   "execution_count": 12,
   "metadata": {
    "execution": {
     "iopub.execute_input": "2021-04-02T11:03:11.895421Z",
     "iopub.status.busy": "2021-04-02T11:03:11.894780Z",
     "iopub.status.idle": "2021-04-02T11:03:11.899320Z",
     "shell.execute_reply": "2021-04-02T11:03:11.898723Z"
    },
    "papermill": {
     "duration": 0.044853,
     "end_time": "2021-04-02T11:03:11.899471",
     "exception": false,
     "start_time": "2021-04-02T11:03:11.854618",
     "status": "completed"
    },
    "tags": []
   },
   "outputs": [
    {
     "data": {
      "text/html": [
       "<div>\n",
       "<style scoped>\n",
       "    .dataframe tbody tr th:only-of-type {\n",
       "        vertical-align: middle;\n",
       "    }\n",
       "\n",
       "    .dataframe tbody tr th {\n",
       "        vertical-align: top;\n",
       "    }\n",
       "\n",
       "    .dataframe thead th {\n",
       "        text-align: right;\n",
       "    }\n",
       "</style>\n",
       "<table border=\"1\" class=\"dataframe\">\n",
       "  <thead>\n",
       "    <tr style=\"text-align: right;\">\n",
       "      <th></th>\n",
       "      <th>title</th>\n",
       "      <th>rating</th>\n",
       "    </tr>\n",
       "  </thead>\n",
       "  <tbody>\n",
       "    <tr>\n",
       "      <th>2</th>\n",
       "      <td>Jumanji</td>\n",
       "      <td>2.0</td>\n",
       "    </tr>\n",
       "    <tr>\n",
       "      <th>0</th>\n",
       "      <td>Breakfast Club, The</td>\n",
       "      <td>5.0</td>\n",
       "    </tr>\n",
       "    <tr>\n",
       "      <th>4</th>\n",
       "      <td>Akira</td>\n",
       "      <td>4.5</td>\n",
       "    </tr>\n",
       "    <tr>\n",
       "      <th>3</th>\n",
       "      <td>Pulp Fiction</td>\n",
       "      <td>5.0</td>\n",
       "    </tr>\n",
       "    <tr>\n",
       "      <th>1</th>\n",
       "      <td>Toy Story</td>\n",
       "      <td>3.5</td>\n",
       "    </tr>\n",
       "  </tbody>\n",
       "</table>\n",
       "</div>"
      ],
      "text/plain": [
       "                 title  rating\n",
       "2              Jumanji     2.0\n",
       "0  Breakfast Club, The     5.0\n",
       "4                Akira     4.5\n",
       "3         Pulp Fiction     5.0\n",
       "1            Toy Story     3.5"
      ]
     },
     "execution_count": 12,
     "metadata": {},
     "output_type": "execute_result"
    }
   ],
   "source": [
    "# Creating an input user to recommend movies to\n",
    "def get_dummy_user():\n",
    "    '''This will the user to whome we will recommend movies. This user has his own list \n",
    "      of favourite movies which we will use to recommend him movies related to those \n",
    "      movies which he has highly rated.\n",
    "      \n",
    "      Notice: To add more movies, simply increase the amount of elements in the userInput. \n",
    "      Feel free to add more in! Just be sure to write it in with capital letters and if a \n",
    "      movie starts with a \"The\", like \"The Matrix\" then write it in like this: 'Matrix, The'. '''\n",
    "\n",
    "    user_input = [\n",
    "        {\n",
    "            'title': 'Breakfast Club, The',\n",
    "            'rating': 5\n",
    "        }, {\n",
    "            'title': 'Toy Story',\n",
    "            'rating': 3.5\n",
    "        }, {\n",
    "            'title': 'Jumanji',\n",
    "            'rating': 2\n",
    "        }, {\n",
    "            'title': \"Pulp Fiction\",\n",
    "            'rating': 5\n",
    "        }, {\n",
    "            'title': 'Akira',\n",
    "            'rating': 4.5\n",
    "        }\n",
    "    ]\n",
    "\n",
    "    input_movies = pd.DataFrame(user_input)\n",
    "    return input_movies\n",
    "\n",
    "\n",
    "input_movies = get_dummy_user()\n",
    "input_movies.sample(5)"
   ]
  },
  {
   "cell_type": "code",
   "execution_count": 13,
   "metadata": {
    "execution": {
     "iopub.execute_input": "2021-04-02T11:03:11.980079Z",
     "iopub.status.busy": "2021-04-02T11:03:11.979210Z",
     "iopub.status.idle": "2021-04-02T11:03:11.983817Z",
     "shell.execute_reply": "2021-04-02T11:03:11.983216Z"
    },
    "papermill": {
     "duration": 0.056675,
     "end_time": "2021-04-02T11:03:11.983970",
     "exception": false,
     "start_time": "2021-04-02T11:03:11.927295",
     "status": "completed"
    },
    "tags": []
   },
   "outputs": [
    {
     "data": {
      "text/html": [
       "<div>\n",
       "<style scoped>\n",
       "    .dataframe tbody tr th:only-of-type {\n",
       "        vertical-align: middle;\n",
       "    }\n",
       "\n",
       "    .dataframe tbody tr th {\n",
       "        vertical-align: top;\n",
       "    }\n",
       "\n",
       "    .dataframe thead th {\n",
       "        text-align: right;\n",
       "    }\n",
       "</style>\n",
       "<table border=\"1\" class=\"dataframe\">\n",
       "  <thead>\n",
       "    <tr style=\"text-align: right;\">\n",
       "      <th></th>\n",
       "      <th>title</th>\n",
       "      <th>rating</th>\n",
       "      <th>movieId</th>\n",
       "    </tr>\n",
       "  </thead>\n",
       "  <tbody>\n",
       "    <tr>\n",
       "      <th>2</th>\n",
       "      <td>Jumanji</td>\n",
       "      <td>2.0</td>\n",
       "      <td>2</td>\n",
       "    </tr>\n",
       "    <tr>\n",
       "      <th>0</th>\n",
       "      <td>Breakfast Club, The</td>\n",
       "      <td>5.0</td>\n",
       "      <td>1968</td>\n",
       "    </tr>\n",
       "    <tr>\n",
       "      <th>1</th>\n",
       "      <td>Toy Story</td>\n",
       "      <td>3.5</td>\n",
       "      <td>1</td>\n",
       "    </tr>\n",
       "    <tr>\n",
       "      <th>4</th>\n",
       "      <td>Akira</td>\n",
       "      <td>4.5</td>\n",
       "      <td>1274</td>\n",
       "    </tr>\n",
       "    <tr>\n",
       "      <th>3</th>\n",
       "      <td>Pulp Fiction</td>\n",
       "      <td>5.0</td>\n",
       "      <td>296</td>\n",
       "    </tr>\n",
       "  </tbody>\n",
       "</table>\n",
       "</div>"
      ],
      "text/plain": [
       "                 title  rating  movieId\n",
       "2              Jumanji     2.0        2\n",
       "0  Breakfast Club, The     5.0     1968\n",
       "1            Toy Story     3.5        1\n",
       "4                Akira     4.5     1274\n",
       "3         Pulp Fiction     5.0      296"
      ]
     },
     "execution_count": 13,
     "metadata": {},
     "output_type": "execute_result"
    }
   ],
   "source": [
    "# Add movieId to input user\n",
    "def add_movies_ids(movies_df, input_movies):\n",
    "    # Filtering out the movies by title\n",
    "    input_id = movies_df[movies_df.title.isin(input_movies.title.tolist())]\n",
    "\n",
    "    # Then merging it so we can get the movie_id. It's implicitly merging it by title.\n",
    "    input_movies = pd.merge(input_movies, input_id)\n",
    "\n",
    "    # Dropping movies information that we won't use from the input dataframe\n",
    "    input_movies.drop(['genres', 'year'], axis='columns', inplace=True)\n",
    "\n",
    "    return input_movies\n",
    "\n",
    "\n",
    "input_movies = add_movies_ids(movies_df, input_movies)\n",
    "input_movies.sample(5)"
   ]
  },
  {
   "cell_type": "markdown",
   "metadata": {
    "papermill": {
     "duration": 0.0291,
     "end_time": "2021-04-02T11:03:12.043764",
     "exception": false,
     "start_time": "2021-04-02T11:03:12.014664",
     "status": "completed"
    },
    "tags": []
   },
   "source": [
    "`input_movies`, `rating_df` and `movie_df` are not altered in either recommendation systems"
   ]
  },
  {
   "cell_type": "markdown",
   "metadata": {
    "papermill": {
     "duration": 0.028838,
     "end_time": "2021-04-02T11:03:12.103692",
     "exception": false,
     "start_time": "2021-04-02T11:03:12.074854",
     "status": "completed"
    },
    "tags": []
   },
   "source": [
    "## 🥁 Building content based recommendation system\n",
    "\n",
    "![](https://media.giphy.com/media/mdzHqtdkwdeZG/giphy.gif)\n",
    "\n",
    "`Content-Based` or `Item-Item recommendation systems`, this technique attempts to figure out what a user's favourite aspects of an item is and then recommends items that present those aspects.\n",
    "\n",
    "Here we're going to try to figure out the input's `favourite genres` from the `movies` and `ratings` given.\n",
    "\n",
    "We're going to start by learning the `input's preferences`, so let's get the subset of movies that the input has watched from the Dataframe containing genres defined with binary values."
   ]
  },
  {
   "cell_type": "code",
   "execution_count": 14,
   "metadata": {
    "execution": {
     "iopub.execute_input": "2021-04-02T11:03:12.167362Z",
     "iopub.status.busy": "2021-04-02T11:03:12.166331Z",
     "iopub.status.idle": "2021-04-02T11:03:12.197959Z",
     "shell.execute_reply": "2021-04-02T11:03:12.198435Z"
    },
    "papermill": {
     "duration": 0.066558,
     "end_time": "2021-04-02T11:03:12.198650",
     "exception": false,
     "start_time": "2021-04-02T11:03:12.132092",
     "status": "completed"
    },
    "tags": []
   },
   "outputs": [
    {
     "data": {
      "text/html": [
       "<div>\n",
       "<style scoped>\n",
       "    .dataframe tbody tr th:only-of-type {\n",
       "        vertical-align: middle;\n",
       "    }\n",
       "\n",
       "    .dataframe tbody tr th {\n",
       "        vertical-align: top;\n",
       "    }\n",
       "\n",
       "    .dataframe thead th {\n",
       "        text-align: right;\n",
       "    }\n",
       "</style>\n",
       "<table border=\"1\" class=\"dataframe\">\n",
       "  <thead>\n",
       "    <tr style=\"text-align: right;\">\n",
       "      <th></th>\n",
       "      <th>movieId</th>\n",
       "      <th>title</th>\n",
       "      <th>genres</th>\n",
       "      <th>year</th>\n",
       "      <th>Adventure</th>\n",
       "      <th>Animation</th>\n",
       "      <th>Children</th>\n",
       "      <th>Comedy</th>\n",
       "      <th>Fantasy</th>\n",
       "      <th>Romance</th>\n",
       "      <th>Drama</th>\n",
       "      <th>Action</th>\n",
       "      <th>Crime</th>\n",
       "      <th>Thriller</th>\n",
       "      <th>Horror</th>\n",
       "      <th>Mystery</th>\n",
       "      <th>Sci-Fi</th>\n",
       "      <th>IMAX</th>\n",
       "      <th>Documentary</th>\n",
       "      <th>War</th>\n",
       "      <th>Musical</th>\n",
       "      <th>Western</th>\n",
       "      <th>Film-Noir</th>\n",
       "      <th>(no genres listed)</th>\n",
       "    </tr>\n",
       "  </thead>\n",
       "  <tbody>\n",
       "    <tr>\n",
       "      <th>1246</th>\n",
       "      <td>1274</td>\n",
       "      <td>Akira</td>\n",
       "      <td>[Action, Adventure, Animation, Sci-Fi]</td>\n",
       "      <td>1988</td>\n",
       "      <td>1.0</td>\n",
       "      <td>1.0</td>\n",
       "      <td>0.0</td>\n",
       "      <td>0.0</td>\n",
       "      <td>0.0</td>\n",
       "      <td>0.0</td>\n",
       "      <td>0.0</td>\n",
       "      <td>1.0</td>\n",
       "      <td>0.0</td>\n",
       "      <td>0.0</td>\n",
       "      <td>0.0</td>\n",
       "      <td>0.0</td>\n",
       "      <td>1.0</td>\n",
       "      <td>0.0</td>\n",
       "      <td>0.0</td>\n",
       "      <td>0.0</td>\n",
       "      <td>0.0</td>\n",
       "      <td>0.0</td>\n",
       "      <td>0.0</td>\n",
       "      <td>0.0</td>\n",
       "    </tr>\n",
       "    <tr>\n",
       "      <th>1884</th>\n",
       "      <td>1968</td>\n",
       "      <td>Breakfast Club, The</td>\n",
       "      <td>[Comedy, Drama]</td>\n",
       "      <td>1985</td>\n",
       "      <td>0.0</td>\n",
       "      <td>0.0</td>\n",
       "      <td>0.0</td>\n",
       "      <td>1.0</td>\n",
       "      <td>0.0</td>\n",
       "      <td>0.0</td>\n",
       "      <td>1.0</td>\n",
       "      <td>0.0</td>\n",
       "      <td>0.0</td>\n",
       "      <td>0.0</td>\n",
       "      <td>0.0</td>\n",
       "      <td>0.0</td>\n",
       "      <td>0.0</td>\n",
       "      <td>0.0</td>\n",
       "      <td>0.0</td>\n",
       "      <td>0.0</td>\n",
       "      <td>0.0</td>\n",
       "      <td>0.0</td>\n",
       "      <td>0.0</td>\n",
       "      <td>0.0</td>\n",
       "    </tr>\n",
       "    <tr>\n",
       "      <th>0</th>\n",
       "      <td>1</td>\n",
       "      <td>Toy Story</td>\n",
       "      <td>[Adventure, Animation, Children, Comedy, Fantasy]</td>\n",
       "      <td>1995</td>\n",
       "      <td>1.0</td>\n",
       "      <td>1.0</td>\n",
       "      <td>1.0</td>\n",
       "      <td>1.0</td>\n",
       "      <td>1.0</td>\n",
       "      <td>0.0</td>\n",
       "      <td>0.0</td>\n",
       "      <td>0.0</td>\n",
       "      <td>0.0</td>\n",
       "      <td>0.0</td>\n",
       "      <td>0.0</td>\n",
       "      <td>0.0</td>\n",
       "      <td>0.0</td>\n",
       "      <td>0.0</td>\n",
       "      <td>0.0</td>\n",
       "      <td>0.0</td>\n",
       "      <td>0.0</td>\n",
       "      <td>0.0</td>\n",
       "      <td>0.0</td>\n",
       "      <td>0.0</td>\n",
       "    </tr>\n",
       "    <tr>\n",
       "      <th>1</th>\n",
       "      <td>2</td>\n",
       "      <td>Jumanji</td>\n",
       "      <td>[Adventure, Children, Fantasy]</td>\n",
       "      <td>1995</td>\n",
       "      <td>1.0</td>\n",
       "      <td>0.0</td>\n",
       "      <td>1.0</td>\n",
       "      <td>0.0</td>\n",
       "      <td>1.0</td>\n",
       "      <td>0.0</td>\n",
       "      <td>0.0</td>\n",
       "      <td>0.0</td>\n",
       "      <td>0.0</td>\n",
       "      <td>0.0</td>\n",
       "      <td>0.0</td>\n",
       "      <td>0.0</td>\n",
       "      <td>0.0</td>\n",
       "      <td>0.0</td>\n",
       "      <td>0.0</td>\n",
       "      <td>0.0</td>\n",
       "      <td>0.0</td>\n",
       "      <td>0.0</td>\n",
       "      <td>0.0</td>\n",
       "      <td>0.0</td>\n",
       "    </tr>\n",
       "    <tr>\n",
       "      <th>293</th>\n",
       "      <td>296</td>\n",
       "      <td>Pulp Fiction</td>\n",
       "      <td>[Comedy, Crime, Drama, Thriller]</td>\n",
       "      <td>1994</td>\n",
       "      <td>0.0</td>\n",
       "      <td>0.0</td>\n",
       "      <td>0.0</td>\n",
       "      <td>1.0</td>\n",
       "      <td>0.0</td>\n",
       "      <td>0.0</td>\n",
       "      <td>1.0</td>\n",
       "      <td>0.0</td>\n",
       "      <td>1.0</td>\n",
       "      <td>1.0</td>\n",
       "      <td>0.0</td>\n",
       "      <td>0.0</td>\n",
       "      <td>0.0</td>\n",
       "      <td>0.0</td>\n",
       "      <td>0.0</td>\n",
       "      <td>0.0</td>\n",
       "      <td>0.0</td>\n",
       "      <td>0.0</td>\n",
       "      <td>0.0</td>\n",
       "      <td>0.0</td>\n",
       "    </tr>\n",
       "  </tbody>\n",
       "</table>\n",
       "</div>"
      ],
      "text/plain": [
       "      movieId                title  \\\n",
       "1246     1274                Akira   \n",
       "1884     1968  Breakfast Club, The   \n",
       "0           1            Toy Story   \n",
       "1           2              Jumanji   \n",
       "293       296         Pulp Fiction   \n",
       "\n",
       "                                                 genres  year  Adventure  \\\n",
       "1246             [Action, Adventure, Animation, Sci-Fi]  1988        1.0   \n",
       "1884                                    [Comedy, Drama]  1985        0.0   \n",
       "0     [Adventure, Animation, Children, Comedy, Fantasy]  1995        1.0   \n",
       "1                        [Adventure, Children, Fantasy]  1995        1.0   \n",
       "293                    [Comedy, Crime, Drama, Thriller]  1994        0.0   \n",
       "\n",
       "      Animation  Children  Comedy  Fantasy  Romance  Drama  Action  Crime  \\\n",
       "1246        1.0       0.0     0.0      0.0      0.0    0.0     1.0    0.0   \n",
       "1884        0.0       0.0     1.0      0.0      0.0    1.0     0.0    0.0   \n",
       "0           1.0       1.0     1.0      1.0      0.0    0.0     0.0    0.0   \n",
       "1           0.0       1.0     0.0      1.0      0.0    0.0     0.0    0.0   \n",
       "293         0.0       0.0     1.0      0.0      0.0    1.0     0.0    1.0   \n",
       "\n",
       "      Thriller  Horror  Mystery  Sci-Fi  IMAX  Documentary  War  Musical  \\\n",
       "1246       0.0     0.0      0.0     1.0   0.0          0.0  0.0      0.0   \n",
       "1884       0.0     0.0      0.0     0.0   0.0          0.0  0.0      0.0   \n",
       "0          0.0     0.0      0.0     0.0   0.0          0.0  0.0      0.0   \n",
       "1          0.0     0.0      0.0     0.0   0.0          0.0  0.0      0.0   \n",
       "293        1.0     0.0      0.0     0.0   0.0          0.0  0.0      0.0   \n",
       "\n",
       "      Western  Film-Noir  (no genres listed)  \n",
       "1246      0.0        0.0                 0.0  \n",
       "1884      0.0        0.0                 0.0  \n",
       "0         0.0        0.0                 0.0  \n",
       "1         0.0        0.0                 0.0  \n",
       "293       0.0        0.0                 0.0  "
      ]
     },
     "execution_count": 14,
     "metadata": {},
     "output_type": "execute_result"
    }
   ],
   "source": [
    "# Filtering out the movies from movies_with_genres_df\n",
    "user_movies = movies_with_genres_df[movies_with_genres_df['movieId'].isin(\n",
    "    input_movies['movieId'].tolist()\n",
    ")]\n",
    "\n",
    "user_movies.sample(5)"
   ]
  },
  {
   "cell_type": "code",
   "execution_count": 15,
   "metadata": {
    "execution": {
     "iopub.execute_input": "2021-04-02T11:03:12.287095Z",
     "iopub.status.busy": "2021-04-02T11:03:12.281978Z",
     "iopub.status.idle": "2021-04-02T11:03:12.294431Z",
     "shell.execute_reply": "2021-04-02T11:03:12.294953Z"
    },
    "papermill": {
     "duration": 0.067266,
     "end_time": "2021-04-02T11:03:12.295145",
     "exception": false,
     "start_time": "2021-04-02T11:03:12.227879",
     "status": "completed"
    },
    "tags": []
   },
   "outputs": [
    {
     "name": "stdout",
     "output_type": "stream",
     "text": [
      "(5, 20)\n"
     ]
    },
    {
     "data": {
      "text/html": [
       "<div>\n",
       "<style scoped>\n",
       "    .dataframe tbody tr th:only-of-type {\n",
       "        vertical-align: middle;\n",
       "    }\n",
       "\n",
       "    .dataframe tbody tr th {\n",
       "        vertical-align: top;\n",
       "    }\n",
       "\n",
       "    .dataframe thead th {\n",
       "        text-align: right;\n",
       "    }\n",
       "</style>\n",
       "<table border=\"1\" class=\"dataframe\">\n",
       "  <thead>\n",
       "    <tr style=\"text-align: right;\">\n",
       "      <th></th>\n",
       "      <th>Adventure</th>\n",
       "      <th>Animation</th>\n",
       "      <th>Children</th>\n",
       "      <th>Comedy</th>\n",
       "      <th>Fantasy</th>\n",
       "      <th>Romance</th>\n",
       "      <th>Drama</th>\n",
       "      <th>Action</th>\n",
       "      <th>Crime</th>\n",
       "      <th>Thriller</th>\n",
       "      <th>Horror</th>\n",
       "      <th>Mystery</th>\n",
       "      <th>Sci-Fi</th>\n",
       "      <th>IMAX</th>\n",
       "      <th>Documentary</th>\n",
       "      <th>War</th>\n",
       "      <th>Musical</th>\n",
       "      <th>Western</th>\n",
       "      <th>Film-Noir</th>\n",
       "      <th>(no genres listed)</th>\n",
       "    </tr>\n",
       "  </thead>\n",
       "  <tbody>\n",
       "    <tr>\n",
       "      <th>0</th>\n",
       "      <td>1.0</td>\n",
       "      <td>1.0</td>\n",
       "      <td>1.0</td>\n",
       "      <td>1.0</td>\n",
       "      <td>1.0</td>\n",
       "      <td>0.0</td>\n",
       "      <td>0.0</td>\n",
       "      <td>0.0</td>\n",
       "      <td>0.0</td>\n",
       "      <td>0.0</td>\n",
       "      <td>0.0</td>\n",
       "      <td>0.0</td>\n",
       "      <td>0.0</td>\n",
       "      <td>0.0</td>\n",
       "      <td>0.0</td>\n",
       "      <td>0.0</td>\n",
       "      <td>0.0</td>\n",
       "      <td>0.0</td>\n",
       "      <td>0.0</td>\n",
       "      <td>0.0</td>\n",
       "    </tr>\n",
       "    <tr>\n",
       "      <th>1</th>\n",
       "      <td>1.0</td>\n",
       "      <td>0.0</td>\n",
       "      <td>1.0</td>\n",
       "      <td>0.0</td>\n",
       "      <td>1.0</td>\n",
       "      <td>0.0</td>\n",
       "      <td>0.0</td>\n",
       "      <td>0.0</td>\n",
       "      <td>0.0</td>\n",
       "      <td>0.0</td>\n",
       "      <td>0.0</td>\n",
       "      <td>0.0</td>\n",
       "      <td>0.0</td>\n",
       "      <td>0.0</td>\n",
       "      <td>0.0</td>\n",
       "      <td>0.0</td>\n",
       "      <td>0.0</td>\n",
       "      <td>0.0</td>\n",
       "      <td>0.0</td>\n",
       "      <td>0.0</td>\n",
       "    </tr>\n",
       "    <tr>\n",
       "      <th>2</th>\n",
       "      <td>0.0</td>\n",
       "      <td>0.0</td>\n",
       "      <td>0.0</td>\n",
       "      <td>1.0</td>\n",
       "      <td>0.0</td>\n",
       "      <td>0.0</td>\n",
       "      <td>1.0</td>\n",
       "      <td>0.0</td>\n",
       "      <td>1.0</td>\n",
       "      <td>1.0</td>\n",
       "      <td>0.0</td>\n",
       "      <td>0.0</td>\n",
       "      <td>0.0</td>\n",
       "      <td>0.0</td>\n",
       "      <td>0.0</td>\n",
       "      <td>0.0</td>\n",
       "      <td>0.0</td>\n",
       "      <td>0.0</td>\n",
       "      <td>0.0</td>\n",
       "      <td>0.0</td>\n",
       "    </tr>\n",
       "    <tr>\n",
       "      <th>3</th>\n",
       "      <td>1.0</td>\n",
       "      <td>1.0</td>\n",
       "      <td>0.0</td>\n",
       "      <td>0.0</td>\n",
       "      <td>0.0</td>\n",
       "      <td>0.0</td>\n",
       "      <td>0.0</td>\n",
       "      <td>1.0</td>\n",
       "      <td>0.0</td>\n",
       "      <td>0.0</td>\n",
       "      <td>0.0</td>\n",
       "      <td>0.0</td>\n",
       "      <td>1.0</td>\n",
       "      <td>0.0</td>\n",
       "      <td>0.0</td>\n",
       "      <td>0.0</td>\n",
       "      <td>0.0</td>\n",
       "      <td>0.0</td>\n",
       "      <td>0.0</td>\n",
       "      <td>0.0</td>\n",
       "    </tr>\n",
       "    <tr>\n",
       "      <th>4</th>\n",
       "      <td>0.0</td>\n",
       "      <td>0.0</td>\n",
       "      <td>0.0</td>\n",
       "      <td>1.0</td>\n",
       "      <td>0.0</td>\n",
       "      <td>0.0</td>\n",
       "      <td>1.0</td>\n",
       "      <td>0.0</td>\n",
       "      <td>0.0</td>\n",
       "      <td>0.0</td>\n",
       "      <td>0.0</td>\n",
       "      <td>0.0</td>\n",
       "      <td>0.0</td>\n",
       "      <td>0.0</td>\n",
       "      <td>0.0</td>\n",
       "      <td>0.0</td>\n",
       "      <td>0.0</td>\n",
       "      <td>0.0</td>\n",
       "      <td>0.0</td>\n",
       "      <td>0.0</td>\n",
       "    </tr>\n",
       "  </tbody>\n",
       "</table>\n",
       "</div>"
      ],
      "text/plain": [
       "   Adventure  Animation  Children  Comedy  Fantasy  Romance  Drama  Action  \\\n",
       "0        1.0        1.0       1.0     1.0      1.0      0.0    0.0     0.0   \n",
       "1        1.0        0.0       1.0     0.0      1.0      0.0    0.0     0.0   \n",
       "2        0.0        0.0       0.0     1.0      0.0      0.0    1.0     0.0   \n",
       "3        1.0        1.0       0.0     0.0      0.0      0.0    0.0     1.0   \n",
       "4        0.0        0.0       0.0     1.0      0.0      0.0    1.0     0.0   \n",
       "\n",
       "   Crime  Thriller  Horror  Mystery  Sci-Fi  IMAX  Documentary  War  Musical  \\\n",
       "0    0.0       0.0     0.0      0.0     0.0   0.0          0.0  0.0      0.0   \n",
       "1    0.0       0.0     0.0      0.0     0.0   0.0          0.0  0.0      0.0   \n",
       "2    1.0       1.0     0.0      0.0     0.0   0.0          0.0  0.0      0.0   \n",
       "3    0.0       0.0     0.0      0.0     1.0   0.0          0.0  0.0      0.0   \n",
       "4    0.0       0.0     0.0      0.0     0.0   0.0          0.0  0.0      0.0   \n",
       "\n",
       "   Western  Film-Noir  (no genres listed)  \n",
       "0      0.0        0.0                 0.0  \n",
       "1      0.0        0.0                 0.0  \n",
       "2      0.0        0.0                 0.0  \n",
       "3      0.0        0.0                 0.0  \n",
       "4      0.0        0.0                 0.0  "
      ]
     },
     "execution_count": 15,
     "metadata": {},
     "output_type": "execute_result"
    }
   ],
   "source": [
    "# We'll only need the actual genre table, so let's clean this up a bit by resetting the\n",
    "# index and dropping the movieId, title, genres and year columns.\n",
    "\n",
    "# Resetting the index to avoid future issues\n",
    "user_movies = user_movies.reset_index(drop=True)\n",
    "\n",
    "# Dropping unnecessary issues due to memory and to avoid issues\n",
    "user_genre_df = user_movies.drop(['movieId', 'title', 'genres', 'year'], axis='columns')\n",
    "\n",
    "print(user_genre_df.shape)\n",
    "user_genre_df"
   ]
  },
  {
   "cell_type": "markdown",
   "metadata": {
    "papermill": {
     "duration": 0.029543,
     "end_time": "2021-04-02T11:03:12.354623",
     "exception": false,
     "start_time": "2021-04-02T11:03:12.325080",
     "status": "completed"
    },
    "tags": []
   },
   "source": [
    "Now we're ready to start learning the input's preferences!\n",
    "\n",
    "To do this, we're going to `turn each genre into weights`. We can do this by using the input's reviews and multiplying them into the input's genre table and then summing up the resulting table by column. This operation is actually a `dot product between a matrix and a vector`."
   ]
  },
  {
   "cell_type": "code",
   "execution_count": 16,
   "metadata": {
    "execution": {
     "iopub.execute_input": "2021-04-02T11:03:12.420921Z",
     "iopub.status.busy": "2021-04-02T11:03:12.420253Z",
     "iopub.status.idle": "2021-04-02T11:03:12.425252Z",
     "shell.execute_reply": "2021-04-02T11:03:12.424596Z"
    },
    "papermill": {
     "duration": 0.040858,
     "end_time": "2021-04-02T11:03:12.425420",
     "exception": false,
     "start_time": "2021-04-02T11:03:12.384562",
     "status": "completed"
    },
    "tags": []
   },
   "outputs": [
    {
     "data": {
      "text/plain": [
       "0    5.0\n",
       "1    3.5\n",
       "2    2.0\n",
       "3    5.0\n",
       "4    4.5\n",
       "Name: rating, dtype: float64"
      ]
     },
     "execution_count": 16,
     "metadata": {},
     "output_type": "execute_result"
    }
   ],
   "source": [
    "input_movies['rating']"
   ]
  },
  {
   "cell_type": "code",
   "execution_count": 17,
   "metadata": {
    "execution": {
     "iopub.execute_input": "2021-04-02T11:03:12.492909Z",
     "iopub.status.busy": "2021-04-02T11:03:12.492261Z",
     "iopub.status.idle": "2021-04-02T11:03:12.499345Z",
     "shell.execute_reply": "2021-04-02T11:03:12.498801Z"
    },
    "papermill": {
     "duration": 0.043717,
     "end_time": "2021-04-02T11:03:12.499509",
     "exception": false,
     "start_time": "2021-04-02T11:03:12.455792",
     "status": "completed"
    },
    "tags": []
   },
   "outputs": [
    {
     "name": "stdout",
     "output_type": "stream",
     "text": [
      "(20,)\n"
     ]
    },
    {
     "data": {
      "text/plain": [
       "Adventure             13.5\n",
       "Animation             10.0\n",
       "Children               8.5\n",
       "Comedy                11.5\n",
       "Fantasy                8.5\n",
       "Romance                0.0\n",
       "Drama                  6.5\n",
       "Action                 5.0\n",
       "Crime                  2.0\n",
       "Thriller               2.0\n",
       "Horror                 0.0\n",
       "Mystery                0.0\n",
       "Sci-Fi                 5.0\n",
       "IMAX                   0.0\n",
       "Documentary            0.0\n",
       "War                    0.0\n",
       "Musical                0.0\n",
       "Western                0.0\n",
       "Film-Noir              0.0\n",
       "(no genres listed)     0.0\n",
       "dtype: float64"
      ]
     },
     "execution_count": 17,
     "metadata": {},
     "output_type": "execute_result"
    }
   ],
   "source": [
    "# Dot product to get weights\n",
    "user_profile = user_genre_df.T.dot(input_movies['rating'])\n",
    "\n",
    "print(user_profile.shape)\n",
    "user_profile.head(len(user_profile))"
   ]
  },
  {
   "cell_type": "markdown",
   "metadata": {
    "papermill": {
     "duration": 0.030209,
     "end_time": "2021-04-02T11:03:12.560252",
     "exception": false,
     "start_time": "2021-04-02T11:03:12.530043",
     "status": "completed"
    },
    "tags": []
   },
   "source": [
    "In this dot product we understand that what user likes, so we see what is the `combined adventure, romance, etc...` does users rated movies have & from there we understand that the user likes adventure movies alot, the user's second preference is romantic movies and so on... This is what the weights tells us.\n",
    "\n",
    "Now, we have the `weights for every genre of the user's preferences`. This is known as the `User Profile`. Using this, we can recommend movies that satisfy the user's preferences."
   ]
  },
  {
   "cell_type": "code",
   "execution_count": 18,
   "metadata": {
    "execution": {
     "iopub.execute_input": "2021-04-02T11:03:12.626584Z",
     "iopub.status.busy": "2021-04-02T11:03:12.625960Z",
     "iopub.status.idle": "2021-04-02T11:03:12.659594Z",
     "shell.execute_reply": "2021-04-02T11:03:12.659054Z"
    },
    "papermill": {
     "duration": 0.069063,
     "end_time": "2021-04-02T11:03:12.659745",
     "exception": false,
     "start_time": "2021-04-02T11:03:12.590682",
     "status": "completed"
    },
    "tags": []
   },
   "outputs": [
    {
     "name": "stdout",
     "output_type": "stream",
     "text": [
      "(27278, 20)\n"
     ]
    },
    {
     "data": {
      "text/html": [
       "<div>\n",
       "<style scoped>\n",
       "    .dataframe tbody tr th:only-of-type {\n",
       "        vertical-align: middle;\n",
       "    }\n",
       "\n",
       "    .dataframe tbody tr th {\n",
       "        vertical-align: top;\n",
       "    }\n",
       "\n",
       "    .dataframe thead th {\n",
       "        text-align: right;\n",
       "    }\n",
       "</style>\n",
       "<table border=\"1\" class=\"dataframe\">\n",
       "  <thead>\n",
       "    <tr style=\"text-align: right;\">\n",
       "      <th></th>\n",
       "      <th>Adventure</th>\n",
       "      <th>Animation</th>\n",
       "      <th>Children</th>\n",
       "      <th>Comedy</th>\n",
       "      <th>Fantasy</th>\n",
       "      <th>Romance</th>\n",
       "      <th>Drama</th>\n",
       "      <th>Action</th>\n",
       "      <th>Crime</th>\n",
       "      <th>Thriller</th>\n",
       "      <th>Horror</th>\n",
       "      <th>Mystery</th>\n",
       "      <th>Sci-Fi</th>\n",
       "      <th>IMAX</th>\n",
       "      <th>Documentary</th>\n",
       "      <th>War</th>\n",
       "      <th>Musical</th>\n",
       "      <th>Western</th>\n",
       "      <th>Film-Noir</th>\n",
       "      <th>(no genres listed)</th>\n",
       "    </tr>\n",
       "    <tr>\n",
       "      <th>movieId</th>\n",
       "      <th></th>\n",
       "      <th></th>\n",
       "      <th></th>\n",
       "      <th></th>\n",
       "      <th></th>\n",
       "      <th></th>\n",
       "      <th></th>\n",
       "      <th></th>\n",
       "      <th></th>\n",
       "      <th></th>\n",
       "      <th></th>\n",
       "      <th></th>\n",
       "      <th></th>\n",
       "      <th></th>\n",
       "      <th></th>\n",
       "      <th></th>\n",
       "      <th></th>\n",
       "      <th></th>\n",
       "      <th></th>\n",
       "      <th></th>\n",
       "    </tr>\n",
       "  </thead>\n",
       "  <tbody>\n",
       "    <tr>\n",
       "      <th>121152</th>\n",
       "      <td>0.0</td>\n",
       "      <td>0.0</td>\n",
       "      <td>0.0</td>\n",
       "      <td>0.0</td>\n",
       "      <td>1.0</td>\n",
       "      <td>0.0</td>\n",
       "      <td>0.0</td>\n",
       "      <td>1.0</td>\n",
       "      <td>0.0</td>\n",
       "      <td>0.0</td>\n",
       "      <td>0.0</td>\n",
       "      <td>0.0</td>\n",
       "      <td>0.0</td>\n",
       "      <td>0.0</td>\n",
       "      <td>0.0</td>\n",
       "      <td>0.0</td>\n",
       "      <td>0.0</td>\n",
       "      <td>0.0</td>\n",
       "      <td>0.0</td>\n",
       "      <td>0.0</td>\n",
       "    </tr>\n",
       "    <tr>\n",
       "      <th>104175</th>\n",
       "      <td>0.0</td>\n",
       "      <td>0.0</td>\n",
       "      <td>0.0</td>\n",
       "      <td>0.0</td>\n",
       "      <td>0.0</td>\n",
       "      <td>0.0</td>\n",
       "      <td>0.0</td>\n",
       "      <td>1.0</td>\n",
       "      <td>0.0</td>\n",
       "      <td>1.0</td>\n",
       "      <td>0.0</td>\n",
       "      <td>0.0</td>\n",
       "      <td>0.0</td>\n",
       "      <td>0.0</td>\n",
       "      <td>0.0</td>\n",
       "      <td>0.0</td>\n",
       "      <td>0.0</td>\n",
       "      <td>0.0</td>\n",
       "      <td>0.0</td>\n",
       "      <td>0.0</td>\n",
       "    </tr>\n",
       "    <tr>\n",
       "      <th>95311</th>\n",
       "      <td>0.0</td>\n",
       "      <td>1.0</td>\n",
       "      <td>1.0</td>\n",
       "      <td>1.0</td>\n",
       "      <td>1.0</td>\n",
       "      <td>0.0</td>\n",
       "      <td>0.0</td>\n",
       "      <td>0.0</td>\n",
       "      <td>0.0</td>\n",
       "      <td>0.0</td>\n",
       "      <td>0.0</td>\n",
       "      <td>0.0</td>\n",
       "      <td>0.0</td>\n",
       "      <td>0.0</td>\n",
       "      <td>0.0</td>\n",
       "      <td>0.0</td>\n",
       "      <td>0.0</td>\n",
       "      <td>0.0</td>\n",
       "      <td>0.0</td>\n",
       "      <td>0.0</td>\n",
       "    </tr>\n",
       "    <tr>\n",
       "      <th>6323</th>\n",
       "      <td>0.0</td>\n",
       "      <td>0.0</td>\n",
       "      <td>0.0</td>\n",
       "      <td>0.0</td>\n",
       "      <td>0.0</td>\n",
       "      <td>0.0</td>\n",
       "      <td>0.0</td>\n",
       "      <td>0.0</td>\n",
       "      <td>1.0</td>\n",
       "      <td>1.0</td>\n",
       "      <td>1.0</td>\n",
       "      <td>1.0</td>\n",
       "      <td>0.0</td>\n",
       "      <td>0.0</td>\n",
       "      <td>0.0</td>\n",
       "      <td>0.0</td>\n",
       "      <td>0.0</td>\n",
       "      <td>0.0</td>\n",
       "      <td>0.0</td>\n",
       "      <td>0.0</td>\n",
       "    </tr>\n",
       "    <tr>\n",
       "      <th>82395</th>\n",
       "      <td>0.0</td>\n",
       "      <td>0.0</td>\n",
       "      <td>1.0</td>\n",
       "      <td>0.0</td>\n",
       "      <td>0.0</td>\n",
       "      <td>0.0</td>\n",
       "      <td>1.0</td>\n",
       "      <td>0.0</td>\n",
       "      <td>0.0</td>\n",
       "      <td>0.0</td>\n",
       "      <td>0.0</td>\n",
       "      <td>0.0</td>\n",
       "      <td>0.0</td>\n",
       "      <td>0.0</td>\n",
       "      <td>0.0</td>\n",
       "      <td>0.0</td>\n",
       "      <td>0.0</td>\n",
       "      <td>0.0</td>\n",
       "      <td>0.0</td>\n",
       "      <td>0.0</td>\n",
       "    </tr>\n",
       "  </tbody>\n",
       "</table>\n",
       "</div>"
      ],
      "text/plain": [
       "         Adventure  Animation  Children  Comedy  Fantasy  Romance  Drama  \\\n",
       "movieId                                                                    \n",
       "121152         0.0        0.0       0.0     0.0      1.0      0.0    0.0   \n",
       "104175         0.0        0.0       0.0     0.0      0.0      0.0    0.0   \n",
       "95311          0.0        1.0       1.0     1.0      1.0      0.0    0.0   \n",
       "6323           0.0        0.0       0.0     0.0      0.0      0.0    0.0   \n",
       "82395          0.0        0.0       1.0     0.0      0.0      0.0    1.0   \n",
       "\n",
       "         Action  Crime  Thriller  Horror  Mystery  Sci-Fi  IMAX  Documentary  \\\n",
       "movieId                                                                        \n",
       "121152      1.0    0.0       0.0     0.0      0.0     0.0   0.0          0.0   \n",
       "104175      1.0    0.0       1.0     0.0      0.0     0.0   0.0          0.0   \n",
       "95311       0.0    0.0       0.0     0.0      0.0     0.0   0.0          0.0   \n",
       "6323        0.0    1.0       1.0     1.0      1.0     0.0   0.0          0.0   \n",
       "82395       0.0    0.0       0.0     0.0      0.0     0.0   0.0          0.0   \n",
       "\n",
       "         War  Musical  Western  Film-Noir  (no genres listed)  \n",
       "movieId                                                        \n",
       "121152   0.0      0.0      0.0        0.0                 0.0  \n",
       "104175   0.0      0.0      0.0        0.0                 0.0  \n",
       "95311    0.0      0.0      0.0        0.0                 0.0  \n",
       "6323     0.0      0.0      0.0        0.0                 0.0  \n",
       "82395    0.0      0.0      0.0        0.0                 0.0  "
      ]
     },
     "execution_count": 18,
     "metadata": {},
     "output_type": "execute_result"
    }
   ],
   "source": [
    "# Now let's get the genres of every movie in our original dataframe\n",
    "genre_df = movies_with_genres_df.set_index(movies_with_genres_df['movieId'])\n",
    "\n",
    "# Droping the unnecessary information\n",
    "genre_df.drop(['movieId', 'title', 'genres', 'year'], axis='columns', inplace=True)\n",
    "\n",
    "print(genre_df.shape)\n",
    "genre_df.sample(5)"
   ]
  },
  {
   "cell_type": "markdown",
   "metadata": {
    "papermill": {
     "duration": 0.031049,
     "end_time": "2021-04-02T11:03:12.722329",
     "exception": false,
     "start_time": "2021-04-02T11:03:12.691280",
     "status": "completed"
    },
    "tags": []
   },
   "source": [
    "With the `input's profile` and the `complete list of movies and their genres` in hand, we're going to take the `weighted average of every movie based on the input profile` and recommend the top twenty movies that most satisfy it."
   ]
  },
  {
   "cell_type": "markdown",
   "metadata": {
    "papermill": {
     "duration": 0.03116,
     "end_time": "2021-04-02T11:03:12.784873",
     "exception": false,
     "start_time": "2021-04-02T11:03:12.753713",
     "status": "completed"
    },
    "tags": []
   },
   "source": [
    "Below are the few info about `genre_df` and `user_profile` to understand the recommendation code logic "
   ]
  },
  {
   "cell_type": "code",
   "execution_count": 19,
   "metadata": {
    "execution": {
     "iopub.execute_input": "2021-04-02T11:03:12.852028Z",
     "iopub.status.busy": "2021-04-02T11:03:12.851134Z",
     "iopub.status.idle": "2021-04-02T11:03:12.857163Z",
     "shell.execute_reply": "2021-04-02T11:03:12.857627Z"
    },
    "papermill": {
     "duration": 0.041173,
     "end_time": "2021-04-02T11:03:12.857816",
     "exception": false,
     "start_time": "2021-04-02T11:03:12.816643",
     "status": "completed"
    },
    "tags": []
   },
   "outputs": [
    {
     "name": "stdout",
     "output_type": "stream",
     "text": [
      "(27278, 20)\n",
      "(20,)\n"
     ]
    }
   ],
   "source": [
    "print(genre_df.shape)\n",
    "print(user_profile.shape)"
   ]
  },
  {
   "cell_type": "code",
   "execution_count": 20,
   "metadata": {
    "execution": {
     "iopub.execute_input": "2021-04-02T11:03:12.928754Z",
     "iopub.status.busy": "2021-04-02T11:03:12.927946Z",
     "iopub.status.idle": "2021-04-02T11:03:12.932636Z",
     "shell.execute_reply": "2021-04-02T11:03:12.932158Z"
    },
    "papermill": {
     "duration": 0.043003,
     "end_time": "2021-04-02T11:03:12.932781",
     "exception": false,
     "start_time": "2021-04-02T11:03:12.889778",
     "status": "completed"
    },
    "tags": []
   },
   "outputs": [
    {
     "data": {
      "text/plain": [
       "Adventure             13.5\n",
       "Animation             10.0\n",
       "Children               8.5\n",
       "Comedy                11.5\n",
       "Fantasy                8.5\n",
       "Romance                0.0\n",
       "Drama                  6.5\n",
       "Action                 5.0\n",
       "Crime                  2.0\n",
       "Thriller               2.0\n",
       "Horror                 0.0\n",
       "Mystery                0.0\n",
       "Sci-Fi                 5.0\n",
       "IMAX                   0.0\n",
       "Documentary            0.0\n",
       "War                    0.0\n",
       "Musical                0.0\n",
       "Western                0.0\n",
       "Film-Noir              0.0\n",
       "(no genres listed)     0.0\n",
       "dtype: float64"
      ]
     },
     "execution_count": 20,
     "metadata": {},
     "output_type": "execute_result"
    }
   ],
   "source": [
    "user_profile"
   ]
  },
  {
   "cell_type": "code",
   "execution_count": 21,
   "metadata": {
    "execution": {
     "iopub.execute_input": "2021-04-02T11:03:13.020524Z",
     "iopub.status.busy": "2021-04-02T11:03:13.019846Z",
     "iopub.status.idle": "2021-04-02T11:03:13.023492Z",
     "shell.execute_reply": "2021-04-02T11:03:13.023988Z"
    },
    "papermill": {
     "duration": 0.059491,
     "end_time": "2021-04-02T11:03:13.024172",
     "exception": false,
     "start_time": "2021-04-02T11:03:12.964681",
     "status": "completed"
    },
    "tags": []
   },
   "outputs": [
    {
     "data": {
      "text/html": [
       "<div>\n",
       "<style scoped>\n",
       "    .dataframe tbody tr th:only-of-type {\n",
       "        vertical-align: middle;\n",
       "    }\n",
       "\n",
       "    .dataframe tbody tr th {\n",
       "        vertical-align: top;\n",
       "    }\n",
       "\n",
       "    .dataframe thead th {\n",
       "        text-align: right;\n",
       "    }\n",
       "</style>\n",
       "<table border=\"1\" class=\"dataframe\">\n",
       "  <thead>\n",
       "    <tr style=\"text-align: right;\">\n",
       "      <th></th>\n",
       "      <th>Adventure</th>\n",
       "      <th>Animation</th>\n",
       "      <th>Children</th>\n",
       "      <th>Comedy</th>\n",
       "      <th>Fantasy</th>\n",
       "      <th>Romance</th>\n",
       "      <th>Drama</th>\n",
       "      <th>Action</th>\n",
       "      <th>Crime</th>\n",
       "      <th>Thriller</th>\n",
       "      <th>Horror</th>\n",
       "      <th>Mystery</th>\n",
       "      <th>Sci-Fi</th>\n",
       "      <th>IMAX</th>\n",
       "      <th>Documentary</th>\n",
       "      <th>War</th>\n",
       "      <th>Musical</th>\n",
       "      <th>Western</th>\n",
       "      <th>Film-Noir</th>\n",
       "      <th>(no genres listed)</th>\n",
       "    </tr>\n",
       "    <tr>\n",
       "      <th>movieId</th>\n",
       "      <th></th>\n",
       "      <th></th>\n",
       "      <th></th>\n",
       "      <th></th>\n",
       "      <th></th>\n",
       "      <th></th>\n",
       "      <th></th>\n",
       "      <th></th>\n",
       "      <th></th>\n",
       "      <th></th>\n",
       "      <th></th>\n",
       "      <th></th>\n",
       "      <th></th>\n",
       "      <th></th>\n",
       "      <th></th>\n",
       "      <th></th>\n",
       "      <th></th>\n",
       "      <th></th>\n",
       "      <th></th>\n",
       "      <th></th>\n",
       "    </tr>\n",
       "  </thead>\n",
       "  <tbody>\n",
       "    <tr>\n",
       "      <th>1</th>\n",
       "      <td>1.0</td>\n",
       "      <td>1.0</td>\n",
       "      <td>1.0</td>\n",
       "      <td>1.0</td>\n",
       "      <td>1.0</td>\n",
       "      <td>0.0</td>\n",
       "      <td>0.0</td>\n",
       "      <td>0.0</td>\n",
       "      <td>0.0</td>\n",
       "      <td>0.0</td>\n",
       "      <td>0.0</td>\n",
       "      <td>0.0</td>\n",
       "      <td>0.0</td>\n",
       "      <td>0.0</td>\n",
       "      <td>0.0</td>\n",
       "      <td>0.0</td>\n",
       "      <td>0.0</td>\n",
       "      <td>0.0</td>\n",
       "      <td>0.0</td>\n",
       "      <td>0.0</td>\n",
       "    </tr>\n",
       "    <tr>\n",
       "      <th>2</th>\n",
       "      <td>1.0</td>\n",
       "      <td>0.0</td>\n",
       "      <td>1.0</td>\n",
       "      <td>0.0</td>\n",
       "      <td>1.0</td>\n",
       "      <td>0.0</td>\n",
       "      <td>0.0</td>\n",
       "      <td>0.0</td>\n",
       "      <td>0.0</td>\n",
       "      <td>0.0</td>\n",
       "      <td>0.0</td>\n",
       "      <td>0.0</td>\n",
       "      <td>0.0</td>\n",
       "      <td>0.0</td>\n",
       "      <td>0.0</td>\n",
       "      <td>0.0</td>\n",
       "      <td>0.0</td>\n",
       "      <td>0.0</td>\n",
       "      <td>0.0</td>\n",
       "      <td>0.0</td>\n",
       "    </tr>\n",
       "  </tbody>\n",
       "</table>\n",
       "</div>"
      ],
      "text/plain": [
       "         Adventure  Animation  Children  Comedy  Fantasy  Romance  Drama  \\\n",
       "movieId                                                                    \n",
       "1              1.0        1.0       1.0     1.0      1.0      0.0    0.0   \n",
       "2              1.0        0.0       1.0     0.0      1.0      0.0    0.0   \n",
       "\n",
       "         Action  Crime  Thriller  Horror  Mystery  Sci-Fi  IMAX  Documentary  \\\n",
       "movieId                                                                        \n",
       "1           0.0    0.0       0.0     0.0      0.0     0.0   0.0          0.0   \n",
       "2           0.0    0.0       0.0     0.0      0.0     0.0   0.0          0.0   \n",
       "\n",
       "         War  Musical  Western  Film-Noir  (no genres listed)  \n",
       "movieId                                                        \n",
       "1        0.0      0.0      0.0        0.0                 0.0  \n",
       "2        0.0      0.0      0.0        0.0                 0.0  "
      ]
     },
     "execution_count": 21,
     "metadata": {},
     "output_type": "execute_result"
    }
   ],
   "source": [
    "genre_df.head(2)"
   ]
  },
  {
   "cell_type": "code",
   "execution_count": 22,
   "metadata": {
    "execution": {
     "iopub.execute_input": "2021-04-02T11:03:13.094513Z",
     "iopub.status.busy": "2021-04-02T11:03:13.093866Z",
     "iopub.status.idle": "2021-04-02T11:03:13.134841Z",
     "shell.execute_reply": "2021-04-02T11:03:13.134310Z"
    },
    "papermill": {
     "duration": 0.077269,
     "end_time": "2021-04-02T11:03:13.134981",
     "exception": false,
     "start_time": "2021-04-02T11:03:13.057712",
     "status": "completed"
    },
    "tags": []
   },
   "outputs": [
    {
     "data": {
      "text/html": [
       "<div>\n",
       "<style scoped>\n",
       "    .dataframe tbody tr th:only-of-type {\n",
       "        vertical-align: middle;\n",
       "    }\n",
       "\n",
       "    .dataframe tbody tr th {\n",
       "        vertical-align: top;\n",
       "    }\n",
       "\n",
       "    .dataframe thead th {\n",
       "        text-align: right;\n",
       "    }\n",
       "</style>\n",
       "<table border=\"1\" class=\"dataframe\">\n",
       "  <thead>\n",
       "    <tr style=\"text-align: right;\">\n",
       "      <th></th>\n",
       "      <th>Adventure</th>\n",
       "      <th>Animation</th>\n",
       "      <th>Children</th>\n",
       "      <th>Comedy</th>\n",
       "      <th>Fantasy</th>\n",
       "      <th>Romance</th>\n",
       "      <th>Drama</th>\n",
       "      <th>Action</th>\n",
       "      <th>Crime</th>\n",
       "      <th>Thriller</th>\n",
       "      <th>Horror</th>\n",
       "      <th>Mystery</th>\n",
       "      <th>Sci-Fi</th>\n",
       "      <th>IMAX</th>\n",
       "      <th>Documentary</th>\n",
       "      <th>War</th>\n",
       "      <th>Musical</th>\n",
       "      <th>Western</th>\n",
       "      <th>Film-Noir</th>\n",
       "      <th>(no genres listed)</th>\n",
       "    </tr>\n",
       "    <tr>\n",
       "      <th>movieId</th>\n",
       "      <th></th>\n",
       "      <th></th>\n",
       "      <th></th>\n",
       "      <th></th>\n",
       "      <th></th>\n",
       "      <th></th>\n",
       "      <th></th>\n",
       "      <th></th>\n",
       "      <th></th>\n",
       "      <th></th>\n",
       "      <th></th>\n",
       "      <th></th>\n",
       "      <th></th>\n",
       "      <th></th>\n",
       "      <th></th>\n",
       "      <th></th>\n",
       "      <th></th>\n",
       "      <th></th>\n",
       "      <th></th>\n",
       "      <th></th>\n",
       "    </tr>\n",
       "  </thead>\n",
       "  <tbody>\n",
       "    <tr>\n",
       "      <th>1</th>\n",
       "      <td>13.5</td>\n",
       "      <td>10.0</td>\n",
       "      <td>8.5</td>\n",
       "      <td>11.5</td>\n",
       "      <td>8.5</td>\n",
       "      <td>0.0</td>\n",
       "      <td>0.0</td>\n",
       "      <td>0.0</td>\n",
       "      <td>0.0</td>\n",
       "      <td>0.0</td>\n",
       "      <td>0.0</td>\n",
       "      <td>0.0</td>\n",
       "      <td>0.0</td>\n",
       "      <td>0.0</td>\n",
       "      <td>0.0</td>\n",
       "      <td>0.0</td>\n",
       "      <td>0.0</td>\n",
       "      <td>0.0</td>\n",
       "      <td>0.0</td>\n",
       "      <td>0.0</td>\n",
       "    </tr>\n",
       "    <tr>\n",
       "      <th>2</th>\n",
       "      <td>13.5</td>\n",
       "      <td>0.0</td>\n",
       "      <td>8.5</td>\n",
       "      <td>0.0</td>\n",
       "      <td>8.5</td>\n",
       "      <td>0.0</td>\n",
       "      <td>0.0</td>\n",
       "      <td>0.0</td>\n",
       "      <td>0.0</td>\n",
       "      <td>0.0</td>\n",
       "      <td>0.0</td>\n",
       "      <td>0.0</td>\n",
       "      <td>0.0</td>\n",
       "      <td>0.0</td>\n",
       "      <td>0.0</td>\n",
       "      <td>0.0</td>\n",
       "      <td>0.0</td>\n",
       "      <td>0.0</td>\n",
       "      <td>0.0</td>\n",
       "      <td>0.0</td>\n",
       "    </tr>\n",
       "  </tbody>\n",
       "</table>\n",
       "</div>"
      ],
      "text/plain": [
       "         Adventure  Animation  Children  Comedy  Fantasy  Romance  Drama  \\\n",
       "movieId                                                                    \n",
       "1             13.5       10.0       8.5    11.5      8.5      0.0    0.0   \n",
       "2             13.5        0.0       8.5     0.0      8.5      0.0    0.0   \n",
       "\n",
       "         Action  Crime  Thriller  Horror  Mystery  Sci-Fi  IMAX  Documentary  \\\n",
       "movieId                                                                        \n",
       "1           0.0    0.0       0.0     0.0      0.0     0.0   0.0          0.0   \n",
       "2           0.0    0.0       0.0     0.0      0.0     0.0   0.0          0.0   \n",
       "\n",
       "         War  Musical  Western  Film-Noir  (no genres listed)  \n",
       "movieId                                                        \n",
       "1        0.0      0.0      0.0        0.0                 0.0  \n",
       "2        0.0      0.0      0.0        0.0                 0.0  "
      ]
     },
     "execution_count": 22,
     "metadata": {},
     "output_type": "execute_result"
    }
   ],
   "source": [
    "genre_df.head(2) * user_profile"
   ]
  },
  {
   "cell_type": "code",
   "execution_count": 23,
   "metadata": {
    "execution": {
     "iopub.execute_input": "2021-04-02T11:03:13.205133Z",
     "iopub.status.busy": "2021-04-02T11:03:13.204166Z",
     "iopub.status.idle": "2021-04-02T11:03:13.211841Z",
     "shell.execute_reply": "2021-04-02T11:03:13.212261Z"
    },
    "papermill": {
     "duration": 0.044361,
     "end_time": "2021-04-02T11:03:13.212436",
     "exception": false,
     "start_time": "2021-04-02T11:03:13.168075",
     "status": "completed"
    },
    "tags": []
   },
   "outputs": [
    {
     "data": {
      "text/plain": [
       "movieId\n",
       "1    52.0\n",
       "2    30.5\n",
       "dtype: float64"
      ]
     },
     "execution_count": 23,
     "metadata": {},
     "output_type": "execute_result"
    }
   ],
   "source": [
    "(genre_df.head(2) * user_profile).sum(axis='columns')"
   ]
  },
  {
   "cell_type": "markdown",
   "metadata": {
    "papermill": {
     "duration": 0.033927,
     "end_time": "2021-04-02T11:03:13.280062",
     "exception": false,
     "start_time": "2021-04-02T11:03:13.246135",
     "status": "completed"
    },
    "tags": []
   },
   "source": [
    "The above gives how much the `input user` will like movie with `movieId` 1 & 2. We can say that user might like movie with movieId 1 more than 2.\n",
    "\n",
    "Below is `get_recommendation_df` applys the above recommendation logic over the entire `genre_df` dataset."
   ]
  },
  {
   "cell_type": "code",
   "execution_count": 24,
   "metadata": {
    "execution": {
     "iopub.execute_input": "2021-04-02T11:03:13.356239Z",
     "iopub.status.busy": "2021-04-02T11:03:13.355598Z",
     "iopub.status.idle": "2021-04-02T11:03:13.368984Z",
     "shell.execute_reply": "2021-04-02T11:03:13.368311Z"
    },
    "papermill": {
     "duration": 0.055144,
     "end_time": "2021-04-02T11:03:13.369137",
     "exception": false,
     "start_time": "2021-04-02T11:03:13.313993",
     "status": "completed"
    },
    "tags": []
   },
   "outputs": [
    {
     "name": "stdout",
     "output_type": "stream",
     "text": [
      "(27278,)\n"
     ]
    },
    {
     "data": {
      "text/plain": [
       "movieId\n",
       "1    0.717241\n",
       "2    0.420690\n",
       "3    0.158621\n",
       "4    0.248276\n",
       "5    0.158621\n",
       "dtype: float64"
      ]
     },
     "execution_count": 24,
     "metadata": {},
     "output_type": "execute_result"
    }
   ],
   "source": [
    "# Multiplying each row in genre_df with the user_profile and summing that row values\n",
    "# to get wieght to recommend the movies\n",
    "def get_recommendation_df(genre_df, user_profile):\n",
    "    # Also normalizing the values by dividing by user_profile.sum()\n",
    "    df = ((genre_df * user_profile).sum(axis='columns')) / user_profile.sum()\n",
    "    return df\n",
    "\n",
    "\n",
    "recommendation_df = get_recommendation_df(genre_df, user_profile)\n",
    "\n",
    "print(recommendation_df.shape)\n",
    "recommendation_df.head()"
   ]
  },
  {
   "cell_type": "code",
   "execution_count": 25,
   "metadata": {
    "execution": {
     "iopub.execute_input": "2021-04-02T11:03:13.443879Z",
     "iopub.status.busy": "2021-04-02T11:03:13.442945Z",
     "iopub.status.idle": "2021-04-02T11:03:13.449986Z",
     "shell.execute_reply": "2021-04-02T11:03:13.450393Z"
    },
    "papermill": {
     "duration": 0.046857,
     "end_time": "2021-04-02T11:03:13.450587",
     "exception": false,
     "start_time": "2021-04-02T11:03:13.403730",
     "status": "completed"
    },
    "tags": []
   },
   "outputs": [
    {
     "data": {
      "text/plain": [
       "movieId\n",
       "26093    0.806897\n",
       "51632    0.786207\n",
       "51939    0.786207\n",
       "673      0.786207\n",
       "26340    0.786207\n",
       "dtype: float64"
      ]
     },
     "execution_count": 25,
     "metadata": {},
     "output_type": "execute_result"
    }
   ],
   "source": [
    "# Sort our recommendations in descending order\n",
    "recommendation_df = recommendation_df.sort_values(ascending=False)\n",
    "recommendation_df.head()"
   ]
  },
  {
   "cell_type": "markdown",
   "metadata": {
    "papermill": {
     "duration": 0.034463,
     "end_time": "2021-04-02T11:03:13.519662",
     "exception": false,
     "start_time": "2021-04-02T11:03:13.485199",
     "status": "completed"
    },
    "tags": []
   },
   "source": [
    "#### Top 20 recommendations"
   ]
  },
  {
   "cell_type": "code",
   "execution_count": 26,
   "metadata": {
    "execution": {
     "iopub.execute_input": "2021-04-02T11:03:13.592422Z",
     "iopub.status.busy": "2021-04-02T11:03:13.591564Z",
     "iopub.status.idle": "2021-04-02T11:03:13.612910Z",
     "shell.execute_reply": "2021-04-02T11:03:13.612299Z"
    },
    "papermill": {
     "duration": 0.058826,
     "end_time": "2021-04-02T11:03:13.613072",
     "exception": false,
     "start_time": "2021-04-02T11:03:13.554246",
     "status": "completed"
    },
    "tags": []
   },
   "outputs": [
    {
     "data": {
      "text/html": [
       "<div>\n",
       "<style scoped>\n",
       "    .dataframe tbody tr th:only-of-type {\n",
       "        vertical-align: middle;\n",
       "    }\n",
       "\n",
       "    .dataframe tbody tr th {\n",
       "        vertical-align: top;\n",
       "    }\n",
       "\n",
       "    .dataframe thead th {\n",
       "        text-align: right;\n",
       "    }\n",
       "</style>\n",
       "<table border=\"1\" class=\"dataframe\">\n",
       "  <thead>\n",
       "    <tr style=\"text-align: right;\">\n",
       "      <th></th>\n",
       "      <th>movieId</th>\n",
       "      <th>title</th>\n",
       "      <th>genres</th>\n",
       "      <th>year</th>\n",
       "    </tr>\n",
       "  </thead>\n",
       "  <tbody>\n",
       "    <tr>\n",
       "      <th>664</th>\n",
       "      <td>673</td>\n",
       "      <td>Space Jam</td>\n",
       "      <td>[Adventure, Animation, Children, Comedy, Fanta...</td>\n",
       "      <td>1996</td>\n",
       "    </tr>\n",
       "    <tr>\n",
       "      <th>2901</th>\n",
       "      <td>2987</td>\n",
       "      <td>Who Framed Roger Rabbit?</td>\n",
       "      <td>[Adventure, Animation, Children, Comedy, Crime...</td>\n",
       "      <td>1988</td>\n",
       "    </tr>\n",
       "    <tr>\n",
       "      <th>4211</th>\n",
       "      <td>4306</td>\n",
       "      <td>Shrek</td>\n",
       "      <td>[Adventure, Animation, Children, Comedy, Fanta...</td>\n",
       "      <td>2001</td>\n",
       "    </tr>\n",
       "    <tr>\n",
       "      <th>8603</th>\n",
       "      <td>26093</td>\n",
       "      <td>Wonderful World of the Brothers Grimm, The</td>\n",
       "      <td>[Adventure, Animation, Children, Comedy, Drama...</td>\n",
       "      <td>1962</td>\n",
       "    </tr>\n",
       "    <tr>\n",
       "      <th>8780</th>\n",
       "      <td>26340</td>\n",
       "      <td>Twelve Tasks of Asterix, The (Les douze travau...</td>\n",
       "      <td>[Action, Adventure, Animation, Children, Comed...</td>\n",
       "      <td>1976</td>\n",
       "    </tr>\n",
       "    <tr>\n",
       "      <th>9291</th>\n",
       "      <td>27344</td>\n",
       "      <td>Revolutionary Girl Utena: Adolescence of Utena...</td>\n",
       "      <td>[Action, Adventure, Animation, Comedy, Drama, ...</td>\n",
       "      <td>1999</td>\n",
       "    </tr>\n",
       "    <tr>\n",
       "      <th>9819</th>\n",
       "      <td>32031</td>\n",
       "      <td>Robots</td>\n",
       "      <td>[Adventure, Animation, Children, Comedy, Fanta...</td>\n",
       "      <td>2005</td>\n",
       "    </tr>\n",
       "    <tr>\n",
       "      <th>10114</th>\n",
       "      <td>33463</td>\n",
       "      <td>DuckTales: The Movie - Treasure of the Lost Lamp</td>\n",
       "      <td>[Adventure, Animation, Children, Comedy, Fantasy]</td>\n",
       "      <td>1990</td>\n",
       "    </tr>\n",
       "    <tr>\n",
       "      <th>10367</th>\n",
       "      <td>36397</td>\n",
       "      <td>Valiant</td>\n",
       "      <td>[Adventure, Animation, Children, Comedy, Fanta...</td>\n",
       "      <td>2005</td>\n",
       "    </tr>\n",
       "    <tr>\n",
       "      <th>10565</th>\n",
       "      <td>40339</td>\n",
       "      <td>Chicken Little</td>\n",
       "      <td>[Action, Adventure, Animation, Children, Comed...</td>\n",
       "      <td>2005</td>\n",
       "    </tr>\n",
       "    <tr>\n",
       "      <th>11704</th>\n",
       "      <td>51632</td>\n",
       "      <td>Atlantis: Milo's Return</td>\n",
       "      <td>[Action, Adventure, Animation, Children, Comed...</td>\n",
       "      <td>2003</td>\n",
       "    </tr>\n",
       "    <tr>\n",
       "      <th>11739</th>\n",
       "      <td>51939</td>\n",
       "      <td>TMNT (Teenage Mutant Ninja Turtles)</td>\n",
       "      <td>[Action, Adventure, Animation, Children, Comed...</td>\n",
       "      <td>2007</td>\n",
       "    </tr>\n",
       "    <tr>\n",
       "      <th>11773</th>\n",
       "      <td>52287</td>\n",
       "      <td>Meet the Robinsons</td>\n",
       "      <td>[Action, Adventure, Animation, Children, Comed...</td>\n",
       "      <td>2007</td>\n",
       "    </tr>\n",
       "    <tr>\n",
       "      <th>11794</th>\n",
       "      <td>52462</td>\n",
       "      <td>Aqua Teen Hunger Force Colon Movie Film for Th...</td>\n",
       "      <td>[Action, Adventure, Animation, Comedy, Fantasy...</td>\n",
       "      <td>2007</td>\n",
       "    </tr>\n",
       "    <tr>\n",
       "      <th>13091</th>\n",
       "      <td>62956</td>\n",
       "      <td>Futurama: Bender's Game</td>\n",
       "      <td>[Action, Adventure, Animation, Comedy, Fantasy...</td>\n",
       "      <td>2008</td>\n",
       "    </tr>\n",
       "    <tr>\n",
       "      <th>16851</th>\n",
       "      <td>85261</td>\n",
       "      <td>Mars Needs Moms</td>\n",
       "      <td>[Action, Adventure, Animation, Children, Comed...</td>\n",
       "      <td>2011</td>\n",
       "    </tr>\n",
       "    <tr>\n",
       "      <th>22048</th>\n",
       "      <td>106240</td>\n",
       "      <td>Free Birds</td>\n",
       "      <td>[Action, Adventure, Animation, Children, Comed...</td>\n",
       "      <td>2013</td>\n",
       "    </tr>\n",
       "    <tr>\n",
       "      <th>22763</th>\n",
       "      <td>108932</td>\n",
       "      <td>The Lego Movie</td>\n",
       "      <td>[Action, Adventure, Animation, Children, Comed...</td>\n",
       "      <td>2014</td>\n",
       "    </tr>\n",
       "    <tr>\n",
       "      <th>24460</th>\n",
       "      <td>115879</td>\n",
       "      <td>Toy Story Toons: Small Fry</td>\n",
       "      <td>[Adventure, Animation, Children, Comedy, Fantasy]</td>\n",
       "      <td>2011</td>\n",
       "    </tr>\n",
       "    <tr>\n",
       "      <th>24849</th>\n",
       "      <td>117454</td>\n",
       "      <td>The Magic Crystal</td>\n",
       "      <td>[Adventure, Animation, Children, Comedy, Fantasy]</td>\n",
       "      <td>2011</td>\n",
       "    </tr>\n",
       "  </tbody>\n",
       "</table>\n",
       "</div>"
      ],
      "text/plain": [
       "       movieId                                              title  \\\n",
       "664        673                                          Space Jam   \n",
       "2901      2987                           Who Framed Roger Rabbit?   \n",
       "4211      4306                                              Shrek   \n",
       "8603     26093         Wonderful World of the Brothers Grimm, The   \n",
       "8780     26340  Twelve Tasks of Asterix, The (Les douze travau...   \n",
       "9291     27344  Revolutionary Girl Utena: Adolescence of Utena...   \n",
       "9819     32031                                             Robots   \n",
       "10114    33463   DuckTales: The Movie - Treasure of the Lost Lamp   \n",
       "10367    36397                                            Valiant   \n",
       "10565    40339                                     Chicken Little   \n",
       "11704    51632                            Atlantis: Milo's Return   \n",
       "11739    51939                TMNT (Teenage Mutant Ninja Turtles)   \n",
       "11773    52287                                 Meet the Robinsons   \n",
       "11794    52462  Aqua Teen Hunger Force Colon Movie Film for Th...   \n",
       "13091    62956                            Futurama: Bender's Game   \n",
       "16851    85261                                    Mars Needs Moms   \n",
       "22048   106240                                         Free Birds   \n",
       "22763   108932                                     The Lego Movie   \n",
       "24460   115879                         Toy Story Toons: Small Fry   \n",
       "24849   117454                                  The Magic Crystal   \n",
       "\n",
       "                                                  genres  year  \n",
       "664    [Adventure, Animation, Children, Comedy, Fanta...  1996  \n",
       "2901   [Adventure, Animation, Children, Comedy, Crime...  1988  \n",
       "4211   [Adventure, Animation, Children, Comedy, Fanta...  2001  \n",
       "8603   [Adventure, Animation, Children, Comedy, Drama...  1962  \n",
       "8780   [Action, Adventure, Animation, Children, Comed...  1976  \n",
       "9291   [Action, Adventure, Animation, Comedy, Drama, ...  1999  \n",
       "9819   [Adventure, Animation, Children, Comedy, Fanta...  2005  \n",
       "10114  [Adventure, Animation, Children, Comedy, Fantasy]  1990  \n",
       "10367  [Adventure, Animation, Children, Comedy, Fanta...  2005  \n",
       "10565  [Action, Adventure, Animation, Children, Comed...  2005  \n",
       "11704  [Action, Adventure, Animation, Children, Comed...  2003  \n",
       "11739  [Action, Adventure, Animation, Children, Comed...  2007  \n",
       "11773  [Action, Adventure, Animation, Children, Comed...  2007  \n",
       "11794  [Action, Adventure, Animation, Comedy, Fantasy...  2007  \n",
       "13091  [Action, Adventure, Animation, Comedy, Fantasy...  2008  \n",
       "16851  [Action, Adventure, Animation, Children, Comed...  2011  \n",
       "22048  [Action, Adventure, Animation, Children, Comed...  2013  \n",
       "22763  [Action, Adventure, Animation, Children, Comed...  2014  \n",
       "24460  [Adventure, Animation, Children, Comedy, Fantasy]  2011  \n",
       "24849  [Adventure, Animation, Children, Comedy, Fantasy]  2011  "
      ]
     },
     "execution_count": 26,
     "metadata": {},
     "output_type": "execute_result"
    }
   ],
   "source": [
    "# Final recommedation table\n",
    "# Getting only top 20 movies to recommend to user\n",
    "movies_df.loc[movies_df['movieId'].isin(recommendation_df.head(20).keys())]"
   ]
  },
  {
   "cell_type": "markdown",
   "metadata": {
    "papermill": {
     "duration": 0.035763,
     "end_time": "2021-04-02T11:03:13.685603",
     "exception": false,
     "start_time": "2021-04-02T11:03:13.649840",
     "status": "completed"
    },
    "tags": []
   },
   "source": [
    "## 🎷 Building collaborative filtering recommendation system\n",
    "\n",
    "![](https://media.giphy.com/media/Jbv9LhPjpiI5W/giphy.gif)\n",
    "\n",
    "`Collaborative Filtering`, which is also known as `User-User Filtering`.\n",
    "\n",
    "As hinted by its alternate name, this technique uses other users to recommend items to the input user. It attempts to find users that have similar preferences and opinions as the input and then recommends items that they have liked to the input. There are several methods of finding `similar users` (Even some making use of Machine Learning), and the one used here is based on the `Pearson Correlation Function`.\n",
    "\n",
    "The process for creating a `User Based recommendation` system is as follows:\n",
    "\n",
    "- Select a user with the movies the user has watched\n",
    "- Based on his rating to movies, find the top X neighbours\n",
    "- Get the watched movie record of the user for each neighbour.\n",
    "- Calculate a similarity score using some formula\n",
    "- Recommend the items with the highest score"
   ]
  },
  {
   "cell_type": "markdown",
   "metadata": {
    "papermill": {
     "duration": 0.035601,
     "end_time": "2021-04-02T11:03:13.757096",
     "exception": false,
     "start_time": "2021-04-02T11:03:13.721495",
     "status": "completed"
    },
    "tags": []
   },
   "source": [
    "Getting the users who has `seen the same movies` as our input user. With the movie ID's in our input, we can now get the subset of users that have watched and reviewed the movies in our input."
   ]
  },
  {
   "cell_type": "code",
   "execution_count": 27,
   "metadata": {
    "execution": {
     "iopub.execute_input": "2021-04-02T11:03:13.836213Z",
     "iopub.status.busy": "2021-04-02T11:03:13.834772Z",
     "iopub.status.idle": "2021-04-02T11:03:13.972950Z",
     "shell.execute_reply": "2021-04-02T11:03:13.973578Z"
    },
    "papermill": {
     "duration": 0.180966,
     "end_time": "2021-04-02T11:03:13.973784",
     "exception": false,
     "start_time": "2021-04-02T11:03:13.792818",
     "status": "completed"
    },
    "tags": []
   },
   "outputs": [
    {
     "name": "stdout",
     "output_type": "stream",
     "text": [
      "(168730, 3)\n"
     ]
    },
    {
     "data": {
      "text/html": [
       "<div>\n",
       "<style scoped>\n",
       "    .dataframe tbody tr th:only-of-type {\n",
       "        vertical-align: middle;\n",
       "    }\n",
       "\n",
       "    .dataframe tbody tr th {\n",
       "        vertical-align: top;\n",
       "    }\n",
       "\n",
       "    .dataframe thead th {\n",
       "        text-align: right;\n",
       "    }\n",
       "</style>\n",
       "<table border=\"1\" class=\"dataframe\">\n",
       "  <thead>\n",
       "    <tr style=\"text-align: right;\">\n",
       "      <th></th>\n",
       "      <th>userId</th>\n",
       "      <th>movieId</th>\n",
       "      <th>rating</th>\n",
       "    </tr>\n",
       "  </thead>\n",
       "  <tbody>\n",
       "    <tr>\n",
       "      <th>0</th>\n",
       "      <td>1</td>\n",
       "      <td>2</td>\n",
       "      <td>3.5</td>\n",
       "    </tr>\n",
       "    <tr>\n",
       "      <th>11</th>\n",
       "      <td>1</td>\n",
       "      <td>296</td>\n",
       "      <td>4.0</td>\n",
       "    </tr>\n",
       "    <tr>\n",
       "      <th>236</th>\n",
       "      <td>3</td>\n",
       "      <td>1</td>\n",
       "      <td>4.0</td>\n",
       "    </tr>\n",
       "    <tr>\n",
       "      <th>451</th>\n",
       "      <td>5</td>\n",
       "      <td>2</td>\n",
       "      <td>3.0</td>\n",
       "    </tr>\n",
       "    <tr>\n",
       "      <th>517</th>\n",
       "      <td>6</td>\n",
       "      <td>1</td>\n",
       "      <td>5.0</td>\n",
       "    </tr>\n",
       "  </tbody>\n",
       "</table>\n",
       "</div>"
      ],
      "text/plain": [
       "     userId  movieId  rating\n",
       "0         1        2     3.5\n",
       "11        1      296     4.0\n",
       "236       3        1     4.0\n",
       "451       5        2     3.0\n",
       "517       6        1     5.0"
      ]
     },
     "execution_count": 27,
     "metadata": {},
     "output_type": "execute_result"
    }
   ],
   "source": [
    "user_subset = ratings_df[ratings_df['movieId'].isin(input_movies['movieId'].tolist())]\n",
    "\n",
    "print(user_subset.shape)\n",
    "user_subset.head()"
   ]
  },
  {
   "cell_type": "code",
   "execution_count": 28,
   "metadata": {
    "execution": {
     "iopub.execute_input": "2021-04-02T11:03:14.058146Z",
     "iopub.status.busy": "2021-04-02T11:03:14.057506Z",
     "iopub.status.idle": "2021-04-02T11:03:14.175423Z",
     "shell.execute_reply": "2021-04-02T11:03:14.174431Z"
    },
    "papermill": {
     "duration": 0.162786,
     "end_time": "2021-04-02T11:03:14.175628",
     "exception": false,
     "start_time": "2021-04-02T11:03:14.012842",
     "status": "completed"
    },
    "tags": []
   },
   "outputs": [
    {
     "data": {
      "text/html": [
       "<div>\n",
       "<style scoped>\n",
       "    .dataframe tbody tr th:only-of-type {\n",
       "        vertical-align: middle;\n",
       "    }\n",
       "\n",
       "    .dataframe tbody tr th {\n",
       "        vertical-align: top;\n",
       "    }\n",
       "\n",
       "    .dataframe thead th {\n",
       "        text-align: right;\n",
       "    }\n",
       "</style>\n",
       "<table border=\"1\" class=\"dataframe\">\n",
       "  <thead>\n",
       "    <tr style=\"text-align: right;\">\n",
       "      <th></th>\n",
       "      <th>userId</th>\n",
       "      <th>movieId</th>\n",
       "      <th>rating</th>\n",
       "    </tr>\n",
       "  </thead>\n",
       "  <tbody>\n",
       "    <tr>\n",
       "      <th>166633</th>\n",
       "      <td>1130</td>\n",
       "      <td>1968</td>\n",
       "      <td>4.0</td>\n",
       "    </tr>\n",
       "  </tbody>\n",
       "</table>\n",
       "</div>"
      ],
      "text/plain": [
       "        userId  movieId  rating\n",
       "166633    1130     1968     4.0"
      ]
     },
     "execution_count": 28,
     "metadata": {},
     "output_type": "execute_result"
    }
   ],
   "source": [
    "# We now group up the rows by user ID.\n",
    "user_subset_group = user_subset.groupby(['userId'])\n",
    "\n",
    "# let's look at one of the users, e.g. the one with userID=1130\n",
    "user_subset_group.get_group(1130)"
   ]
  },
  {
   "cell_type": "markdown",
   "metadata": {
    "papermill": {
     "duration": 0.037093,
     "end_time": "2021-04-02T11:03:14.249262",
     "exception": false,
     "start_time": "2021-04-02T11:03:14.212169",
     "status": "completed"
    },
    "tags": []
   },
   "source": [
    "Let's also sort these groups so the users that share the `most movies in common` with the input have higher priority. This provides a richer recommendation since `we won't go through every single user`."
   ]
  },
  {
   "cell_type": "code",
   "execution_count": 29,
   "metadata": {
    "execution": {
     "iopub.execute_input": "2021-04-02T11:03:14.329865Z",
     "iopub.status.busy": "2021-04-02T11:03:14.329217Z",
     "iopub.status.idle": "2021-04-02T11:03:19.075546Z",
     "shell.execute_reply": "2021-04-02T11:03:19.074806Z"
    },
    "papermill": {
     "duration": 4.787564,
     "end_time": "2021-04-02T11:03:19.075698",
     "exception": false,
     "start_time": "2021-04-02T11:03:14.288134",
     "status": "completed"
    },
    "tags": []
   },
   "outputs": [
    {
     "data": {
      "text/plain": [
       "[(91,\n",
       "        userId  movieId  rating\n",
       "  9621      91        1     4.0\n",
       "  9622      91        2     3.5\n",
       "  9669      91      296     3.5\n",
       "  9826      91     1274     2.5\n",
       "  9903      91     1968     4.0),\n",
       " (294,\n",
       "         userId  movieId  rating\n",
       "  37452     294        1     4.5\n",
       "  37453     294        2     4.5\n",
       "  37504     294      296     4.5\n",
       "  37648     294     1274     4.5\n",
       "  37731     294     1968     5.0),\n",
       " (586,\n",
       "         userId  movieId  rating\n",
       "  81164     586        1     2.5\n",
       "  81165     586        2     3.0\n",
       "  81226     586      296     5.0\n",
       "  81390     586     1274     4.0\n",
       "  81499     586     1968     3.0)]"
      ]
     },
     "execution_count": 29,
     "metadata": {},
     "output_type": "execute_result"
    }
   ],
   "source": [
    "# Sorting users with movie most in common with the input will have priority\n",
    "user_subset_group = sorted(user_subset_group, key=lambda x: len(x[1]), reverse=True)\n",
    "\n",
    "# Top 3 users in user_subset_group\n",
    "user_subset_group[0:3]"
   ]
  },
  {
   "cell_type": "markdown",
   "metadata": {
    "papermill": {
     "duration": 0.037922,
     "end_time": "2021-04-02T11:03:19.150633",
     "exception": false,
     "start_time": "2021-04-02T11:03:19.112711",
     "status": "completed"
    },
    "tags": []
   },
   "source": [
    "`Similarity of users to input user`\n",
    "\n",
    "Next, we are going to compare all users (not really all !!!) to our specified user and find the one that is `most similar`. We're going to find out how similar each user is to the input through the `Pearson Correlation Coefficient`. It is used to measure the strength of a linear association between two variables.\n",
    "\n",
    "Pearson correlation is `invariant to scaling`, i.e. multiplying all elements by a nonzero constant or adding any constant to all elements. For example, if you have two vectors X and Y,then, `pearson(X, Y) == pearson(X, 2 * Y + 3)`. This is a pretty `important property` in recommendation systems because for example two users might rate two series of items totally different in terms of absolute rates, but they would be similar users (i.e. with similar ideas) with similar rates in various scales.\n",
    "\n",
    "![Pearson Correlation](https://cdn-5a6cb102f911c811e474f1cd.closte.com/wp-content/uploads/2020/08/Pearson-Correlation-Coefficient-Formula.png)\n",
    "\n",
    "The values given by the pearson correlation formula vary from r = -1 to r = 1, where 1 forms a direct correlation between the two entities (it means a perfect positive correlation) and -1 forms a perfect negative correlation. In our case, a 1 means that the two users have similar tastes while a -1 means the opposite.\n",
    "\n",
    "We will select a subset of users to iterate through. This limit is imposed because we don't want to waste too much time going through every single user."
   ]
  },
  {
   "cell_type": "code",
   "execution_count": 30,
   "metadata": {
    "execution": {
     "iopub.execute_input": "2021-04-02T11:03:19.455004Z",
     "iopub.status.busy": "2021-04-02T11:03:19.454260Z",
     "iopub.status.idle": "2021-04-02T11:03:19.457611Z",
     "shell.execute_reply": "2021-04-02T11:03:19.457021Z"
    },
    "papermill": {
     "duration": 0.269738,
     "end_time": "2021-04-02T11:03:19.457850",
     "exception": false,
     "start_time": "2021-04-02T11:03:19.188112",
     "status": "completed"
    },
    "tags": []
   },
   "outputs": [],
   "source": [
    "user_subset_group = user_subset_group[0:100]"
   ]
  },
  {
   "cell_type": "markdown",
   "metadata": {
    "papermill": {
     "duration": 0.036969,
     "end_time": "2021-04-02T11:03:19.531436",
     "exception": false,
     "start_time": "2021-04-02T11:03:19.494467",
     "status": "completed"
    },
    "tags": []
   },
   "source": [
    "Now, we calculate the Pearson Correlation between input user and subset group, and store it in a dictionary, where the key is the user Id and the value is the coefficient"
   ]
  },
  {
   "cell_type": "code",
   "execution_count": 31,
   "metadata": {
    "execution": {
     "iopub.execute_input": "2021-04-02T11:03:19.646990Z",
     "iopub.status.busy": "2021-04-02T11:03:19.613400Z",
     "iopub.status.idle": "2021-04-02T11:03:19.760524Z",
     "shell.execute_reply": "2021-04-02T11:03:19.761201Z"
    },
    "papermill": {
     "duration": 0.193462,
     "end_time": "2021-04-02T11:03:19.761382",
     "exception": false,
     "start_time": "2021-04-02T11:03:19.567920",
     "status": "completed"
    },
    "tags": []
   },
   "outputs": [
    {
     "data": {
      "text/plain": [
       "dict_items([(91, -0.08006407690254357), (294, 0.4385290096535115), (586, 0.5393193716300061), (648, 0.6880209161537812), (775, 0.8362420100070908), (812, 0.6016568375961869), (869, 0.1860521018838127), (903, -0.17902871850985827), (1200, 0.5370861555295743), (1244, 0.10963225241337883), (1715, 0.8951435925492911), (1748, 0.8320502943378437), (1763, -0.268543077764787), (1810, 0.8594395636904102), (1813, 0.8347371386380908), (1849, 0.626600514784503), (1864, 0.8320502943378437), (1942, 0.774023530673004), (1984, -0.31803907173309875), (2047, 0.8976095575314932), (2099, -0.4385290096535115), (2367, 0.49334513586020373), (2397, 0), (2515, 0.8951435925492914), (2661, 0.4385290096535153), (2757, 0.7844645405527362), (2959, 0.11720180773462363), (2988, 0.7197795937681559), (3179, 0.29417420270727607), (3218, 0.8503864129218268), (3268, 0.8204126541423654), (3269, 0.8648817040445187), (3318, 0.8790135580096794), (3397, 0.711233325153824), (3487, 0.36544084137792915), (3576, 0.5967623950328603), (3629, 0.8807048459279793), (3858, 0.4772135722318333), (3986, 0.6864064729836442), (4034, 0.657793514480273), (4332, 0.35805743701971815), (4358, 0.1386750490563073), (4529, 0.5765566601970551), (4598, 0.358057437019716), (4696, 0.6577935144802716), (5504, -0.43852900965351443), (5518, 0.7205766921228921), (5576, 0.8807048459279793), (5706, 0.7205766921228921), (5791, 0.4385290096535153), (5825, 0.8600261451922278), (6057, 0.537086155529574), (6207, 0.5860090386731196), (6233, -0.11720180773462363), (6369, 0.657793514480273), (6630, 0.4385290096535145), (6743, 0.8594395636904102), (6976, 0.06296909605425952), (6978, 0.43852900965351443), (7083, 0.3440104580768906), (7443, 0.8320502943378437), (7539, 0.6147413901342469), (7545, 0.15293388567865973), (8032, 0.804843636585534), (8082, 0.560448538317805), (8207, 0.716114874039432), (8316, 0.8204126541423654), (8405, 0.6577935144802716), (8412, 0.8648817040445187), (8417, 0.657793514480273), (8558, 0.6982240822943707), (8623, 0.8204126541423674), (8805, -0.43852900965351443), (8944, 0.7520710469952329), (8990, 0.6020183016345586), (9145, 0.11720180773462363), (9175, 0.5661385170722978), (9305, 0.7844645405527362), (9410, 0.89514359254929), (9454, 0.35805743701971815), (9650, 0.7032108464077436), (9772, 0.8951435925492954), (9790, -0.3827795011754764), (9795, 0.5853694070049635), (9838, 0.41602514716892186), (10012, 0.2256213140985701), (10059, 0.775890900167808), (10178, -0.23440361546924784), (10321, 0.0), (10387, 0.9460287597114506), (10389, 0.4385290096535153), (10443, -0.323875137815648), (10497, 0.17902871850985907), (10514, 0.727218092353424), (10560, 0.8713121398246098), (10621, 0.4512426281971402), (10670, 0.29838119751643016), (10821, 0.22562131409856986), (10822, 0.04523081376574623), (10989, 0.5860090386731196)])"
      ]
     },
     "execution_count": 31,
     "metadata": {},
     "output_type": "execute_result"
    }
   ],
   "source": [
    "def calculate_persona_corr(user_subset_group, input_movies):\n",
    "    # Store the Pearson Correlation in a dictionary, where the key is the user Id and the\n",
    "    # value is the coefficient\n",
    "    pearson_corr_dict = {}\n",
    "\n",
    "    # For every user group in our subset\n",
    "    for name, group in user_subset_group:\n",
    "        # Let's start by sorting the input and current user group so the values aren't mixed up later on\n",
    "        group = group.sort_values(by='movieId')\n",
    "        input_movies = input_movies.sort_values(by='movieId')\n",
    "\n",
    "        # Get the N for the formula\n",
    "        n_ratings = len(group)\n",
    "\n",
    "        # Get the review scores for the movies that they both have in common\n",
    "        temp_df = input_movies[input_movies['movieId'].isin(group['movieId'].tolist())]\n",
    "\n",
    "        # And then store them in a temporary buffer variable in a list format to facilitate future calculations\n",
    "        temp_rating_list = temp_df['rating'].tolist()\n",
    "\n",
    "        # Let's also put the current user group reviews in a list format\n",
    "        temp_group_list = group['rating'].tolist()\n",
    "\n",
    "        # Now let's calculate the pearson correlation between two users, so called, x and y\n",
    "        Sxx = sum([i**2 for i in temp_rating_list]) - pow(sum(temp_rating_list), 2) / float(n_ratings)\n",
    "        Syy = sum([i**2 for i in temp_group_list]) - pow(sum(temp_group_list), 2) / float(n_ratings)\n",
    "        Sxy = sum(i * j for i, j in zip(temp_rating_list, temp_group_list)) - sum(temp_rating_list) * sum(temp_group_list) / float(n_ratings)\n",
    "\n",
    "        # If the denominator is different than zero, then divide, else, 0 correlation.\n",
    "        if Sxx != 0 and Syy != 0:\n",
    "            pearson_corr_dict[name] = Sxy / sqrt(Sxx * Syy)\n",
    "        else:\n",
    "            pearson_corr_dict[name] = 0\n",
    "\n",
    "    return pearson_corr_dict\n",
    "\n",
    "\n",
    "pearson_corr_dict = calculate_persona_corr(user_subset_group, input_movies)\n",
    "pearson_corr_dict.items()"
   ]
  },
  {
   "cell_type": "code",
   "execution_count": 32,
   "metadata": {
    "execution": {
     "iopub.execute_input": "2021-04-02T11:03:19.847264Z",
     "iopub.status.busy": "2021-04-02T11:03:19.846552Z",
     "iopub.status.idle": "2021-04-02T11:03:19.851407Z",
     "shell.execute_reply": "2021-04-02T11:03:19.850930Z"
    },
    "papermill": {
     "duration": 0.053157,
     "end_time": "2021-04-02T11:03:19.851572",
     "exception": false,
     "start_time": "2021-04-02T11:03:19.798415",
     "status": "completed"
    },
    "tags": []
   },
   "outputs": [
    {
     "data": {
      "text/html": [
       "<div>\n",
       "<style scoped>\n",
       "    .dataframe tbody tr th:only-of-type {\n",
       "        vertical-align: middle;\n",
       "    }\n",
       "\n",
       "    .dataframe tbody tr th {\n",
       "        vertical-align: top;\n",
       "    }\n",
       "\n",
       "    .dataframe thead th {\n",
       "        text-align: right;\n",
       "    }\n",
       "</style>\n",
       "<table border=\"1\" class=\"dataframe\">\n",
       "  <thead>\n",
       "    <tr style=\"text-align: right;\">\n",
       "      <th></th>\n",
       "      <th>similarityIndex</th>\n",
       "      <th>userId</th>\n",
       "    </tr>\n",
       "  </thead>\n",
       "  <tbody>\n",
       "    <tr>\n",
       "      <th>19</th>\n",
       "      <td>0.897610</td>\n",
       "      <td>2047</td>\n",
       "    </tr>\n",
       "    <tr>\n",
       "      <th>31</th>\n",
       "      <td>0.864882</td>\n",
       "      <td>3269</td>\n",
       "    </tr>\n",
       "    <tr>\n",
       "      <th>85</th>\n",
       "      <td>0.225621</td>\n",
       "      <td>10012</td>\n",
       "    </tr>\n",
       "    <tr>\n",
       "      <th>72</th>\n",
       "      <td>-0.438529</td>\n",
       "      <td>8805</td>\n",
       "    </tr>\n",
       "    <tr>\n",
       "      <th>93</th>\n",
       "      <td>0.727218</td>\n",
       "      <td>10514</td>\n",
       "    </tr>\n",
       "  </tbody>\n",
       "</table>\n",
       "</div>"
      ],
      "text/plain": [
       "    similarityIndex  userId\n",
       "19         0.897610    2047\n",
       "31         0.864882    3269\n",
       "85         0.225621   10012\n",
       "72        -0.438529    8805\n",
       "93         0.727218   10514"
      ]
     },
     "execution_count": 32,
     "metadata": {},
     "output_type": "execute_result"
    }
   ],
   "source": [
    "def create_pearson_df(pearson_corr_dict):\n",
    "    pearson_df = pd.DataFrame.from_dict(pearson_corr_dict, orient='index')\n",
    "    pearson_df.columns = ['similarityIndex']\n",
    "    pearson_df['userId'] = pearson_df.index\n",
    "    pearson_df.index = range(len(pearson_df))\n",
    "    return pearson_df\n",
    "\n",
    "\n",
    "pearson_df = create_pearson_df(pearson_corr_dict)\n",
    "pearson_df.sample(5)"
   ]
  },
  {
   "cell_type": "markdown",
   "metadata": {
    "papermill": {
     "duration": 0.037543,
     "end_time": "2021-04-02T11:03:19.932144",
     "exception": false,
     "start_time": "2021-04-02T11:03:19.894601",
     "status": "completed"
    },
    "tags": []
   },
   "source": [
    "The top x similar users to input user"
   ]
  },
  {
   "cell_type": "code",
   "execution_count": 33,
   "metadata": {
    "execution": {
     "iopub.execute_input": "2021-04-02T11:03:20.019585Z",
     "iopub.status.busy": "2021-04-02T11:03:20.018796Z",
     "iopub.status.idle": "2021-04-02T11:03:20.023328Z",
     "shell.execute_reply": "2021-04-02T11:03:20.022854Z"
    },
    "papermill": {
     "duration": 0.052559,
     "end_time": "2021-04-02T11:03:20.023482",
     "exception": false,
     "start_time": "2021-04-02T11:03:19.970923",
     "status": "completed"
    },
    "tags": []
   },
   "outputs": [
    {
     "data": {
      "text/html": [
       "<div>\n",
       "<style scoped>\n",
       "    .dataframe tbody tr th:only-of-type {\n",
       "        vertical-align: middle;\n",
       "    }\n",
       "\n",
       "    .dataframe tbody tr th {\n",
       "        vertical-align: top;\n",
       "    }\n",
       "\n",
       "    .dataframe thead th {\n",
       "        text-align: right;\n",
       "    }\n",
       "</style>\n",
       "<table border=\"1\" class=\"dataframe\">\n",
       "  <thead>\n",
       "    <tr style=\"text-align: right;\">\n",
       "      <th></th>\n",
       "      <th>similarityIndex</th>\n",
       "      <th>userId</th>\n",
       "    </tr>\n",
       "  </thead>\n",
       "  <tbody>\n",
       "    <tr>\n",
       "      <th>89</th>\n",
       "      <td>0.946029</td>\n",
       "      <td>10387</td>\n",
       "    </tr>\n",
       "    <tr>\n",
       "      <th>19</th>\n",
       "      <td>0.897610</td>\n",
       "      <td>2047</td>\n",
       "    </tr>\n",
       "    <tr>\n",
       "      <th>81</th>\n",
       "      <td>0.895144</td>\n",
       "      <td>9772</td>\n",
       "    </tr>\n",
       "    <tr>\n",
       "      <th>23</th>\n",
       "      <td>0.895144</td>\n",
       "      <td>2515</td>\n",
       "    </tr>\n",
       "    <tr>\n",
       "      <th>10</th>\n",
       "      <td>0.895144</td>\n",
       "      <td>1715</td>\n",
       "    </tr>\n",
       "  </tbody>\n",
       "</table>\n",
       "</div>"
      ],
      "text/plain": [
       "    similarityIndex  userId\n",
       "89         0.946029   10387\n",
       "19         0.897610    2047\n",
       "81         0.895144    9772\n",
       "23         0.895144    2515\n",
       "10         0.895144    1715"
      ]
     },
     "execution_count": 33,
     "metadata": {},
     "output_type": "execute_result"
    }
   ],
   "source": [
    "# Now let's get the top 50 users that are most similar to the input.\n",
    "top_users = pearson_df.sort_values(by='similarityIndex', ascending=False)[0:50]\n",
    "top_users.head()"
   ]
  },
  {
   "cell_type": "markdown",
   "metadata": {
    "papermill": {
     "duration": 0.037766,
     "end_time": "2021-04-02T11:03:20.100144",
     "exception": false,
     "start_time": "2021-04-02T11:03:20.062378",
     "status": "completed"
    },
    "tags": []
   },
   "source": [
    "Now, let's start `recommending movies` to the input user.\n",
    "\n",
    "Rating of selected users to all movies\n",
    "\n",
    "We're going to do this by taking the `weighted average` of the ratings of the movies using the `Pearson Correlation` as the weight. But to do this, we first need to get the movies watched by the users in our pearson_df from the ratings dataframe and then store their correlation in a new column called `similarityIndex`. This is achieved below by merging of these two tables."
   ]
  },
  {
   "cell_type": "code",
   "execution_count": 34,
   "metadata": {
    "execution": {
     "iopub.execute_input": "2021-04-02T11:03:20.185283Z",
     "iopub.status.busy": "2021-04-02T11:03:20.183786Z",
     "iopub.status.idle": "2021-04-02T11:03:20.988470Z",
     "shell.execute_reply": "2021-04-02T11:03:20.987937Z"
    },
    "papermill": {
     "duration": 0.850085,
     "end_time": "2021-04-02T11:03:20.988625",
     "exception": false,
     "start_time": "2021-04-02T11:03:20.138540",
     "status": "completed"
    },
    "tags": []
   },
   "outputs": [
    {
     "data": {
      "text/html": [
       "<div>\n",
       "<style scoped>\n",
       "    .dataframe tbody tr th:only-of-type {\n",
       "        vertical-align: middle;\n",
       "    }\n",
       "\n",
       "    .dataframe tbody tr th {\n",
       "        vertical-align: top;\n",
       "    }\n",
       "\n",
       "    .dataframe thead th {\n",
       "        text-align: right;\n",
       "    }\n",
       "</style>\n",
       "<table border=\"1\" class=\"dataframe\">\n",
       "  <thead>\n",
       "    <tr style=\"text-align: right;\">\n",
       "      <th></th>\n",
       "      <th>similarityIndex</th>\n",
       "      <th>userId</th>\n",
       "      <th>movieId</th>\n",
       "      <th>rating</th>\n",
       "    </tr>\n",
       "  </thead>\n",
       "  <tbody>\n",
       "    <tr>\n",
       "      <th>0</th>\n",
       "      <td>0.946029</td>\n",
       "      <td>10387</td>\n",
       "      <td>1</td>\n",
       "      <td>4.0</td>\n",
       "    </tr>\n",
       "    <tr>\n",
       "      <th>1</th>\n",
       "      <td>0.946029</td>\n",
       "      <td>10387</td>\n",
       "      <td>2</td>\n",
       "      <td>3.5</td>\n",
       "    </tr>\n",
       "    <tr>\n",
       "      <th>2</th>\n",
       "      <td>0.946029</td>\n",
       "      <td>10387</td>\n",
       "      <td>10</td>\n",
       "      <td>3.0</td>\n",
       "    </tr>\n",
       "    <tr>\n",
       "      <th>3</th>\n",
       "      <td>0.946029</td>\n",
       "      <td>10387</td>\n",
       "      <td>11</td>\n",
       "      <td>3.0</td>\n",
       "    </tr>\n",
       "    <tr>\n",
       "      <th>4</th>\n",
       "      <td>0.946029</td>\n",
       "      <td>10387</td>\n",
       "      <td>17</td>\n",
       "      <td>3.0</td>\n",
       "    </tr>\n",
       "  </tbody>\n",
       "</table>\n",
       "</div>"
      ],
      "text/plain": [
       "   similarityIndex  userId  movieId  rating\n",
       "0         0.946029   10387        1     4.0\n",
       "1         0.946029   10387        2     3.5\n",
       "2         0.946029   10387       10     3.0\n",
       "3         0.946029   10387       11     3.0\n",
       "4         0.946029   10387       17     3.0"
      ]
     },
     "execution_count": 34,
     "metadata": {},
     "output_type": "execute_result"
    }
   ],
   "source": [
    "top_users_rating = top_users.merge(ratings_df, left_on='userId', right_on='userId', how='inner')\n",
    "top_users_rating.head()"
   ]
  },
  {
   "cell_type": "markdown",
   "metadata": {
    "papermill": {
     "duration": 0.038775,
     "end_time": "2021-04-02T11:03:21.066137",
     "exception": false,
     "start_time": "2021-04-02T11:03:21.027362",
     "status": "completed"
    },
    "tags": []
   },
   "source": [
    "Now all we need to do is simply multiply the movie rating by its weight (The similarity index), then sum up the new ratings and divide it by the sum of the weights.\n",
    "\n",
    "We can easily do this by simply multiplying two columns, then grouping up the dataframe by movieId and then dividing two columns.\n",
    "\n",
    "It shows the idea of all similar users to candidate movies for the input user"
   ]
  },
  {
   "cell_type": "code",
   "execution_count": 35,
   "metadata": {
    "execution": {
     "iopub.execute_input": "2021-04-02T11:03:21.149624Z",
     "iopub.status.busy": "2021-04-02T11:03:21.148961Z",
     "iopub.status.idle": "2021-04-02T11:03:21.162051Z",
     "shell.execute_reply": "2021-04-02T11:03:21.161385Z"
    },
    "papermill": {
     "duration": 0.056892,
     "end_time": "2021-04-02T11:03:21.162191",
     "exception": false,
     "start_time": "2021-04-02T11:03:21.105299",
     "status": "completed"
    },
    "tags": []
   },
   "outputs": [
    {
     "data": {
      "text/html": [
       "<div>\n",
       "<style scoped>\n",
       "    .dataframe tbody tr th:only-of-type {\n",
       "        vertical-align: middle;\n",
       "    }\n",
       "\n",
       "    .dataframe tbody tr th {\n",
       "        vertical-align: top;\n",
       "    }\n",
       "\n",
       "    .dataframe thead th {\n",
       "        text-align: right;\n",
       "    }\n",
       "</style>\n",
       "<table border=\"1\" class=\"dataframe\">\n",
       "  <thead>\n",
       "    <tr style=\"text-align: right;\">\n",
       "      <th></th>\n",
       "      <th>similarityIndex</th>\n",
       "      <th>userId</th>\n",
       "      <th>movieId</th>\n",
       "      <th>rating</th>\n",
       "      <th>weightedRating</th>\n",
       "    </tr>\n",
       "  </thead>\n",
       "  <tbody>\n",
       "    <tr>\n",
       "      <th>0</th>\n",
       "      <td>0.946029</td>\n",
       "      <td>10387</td>\n",
       "      <td>1</td>\n",
       "      <td>4.0</td>\n",
       "      <td>3.784115</td>\n",
       "    </tr>\n",
       "    <tr>\n",
       "      <th>1</th>\n",
       "      <td>0.946029</td>\n",
       "      <td>10387</td>\n",
       "      <td>2</td>\n",
       "      <td>3.5</td>\n",
       "      <td>3.311101</td>\n",
       "    </tr>\n",
       "    <tr>\n",
       "      <th>2</th>\n",
       "      <td>0.946029</td>\n",
       "      <td>10387</td>\n",
       "      <td>10</td>\n",
       "      <td>3.0</td>\n",
       "      <td>2.838086</td>\n",
       "    </tr>\n",
       "    <tr>\n",
       "      <th>3</th>\n",
       "      <td>0.946029</td>\n",
       "      <td>10387</td>\n",
       "      <td>11</td>\n",
       "      <td>3.0</td>\n",
       "      <td>2.838086</td>\n",
       "    </tr>\n",
       "    <tr>\n",
       "      <th>4</th>\n",
       "      <td>0.946029</td>\n",
       "      <td>10387</td>\n",
       "      <td>17</td>\n",
       "      <td>3.0</td>\n",
       "      <td>2.838086</td>\n",
       "    </tr>\n",
       "  </tbody>\n",
       "</table>\n",
       "</div>"
      ],
      "text/plain": [
       "   similarityIndex  userId  movieId  rating  weightedRating\n",
       "0         0.946029   10387        1     4.0        3.784115\n",
       "1         0.946029   10387        2     3.5        3.311101\n",
       "2         0.946029   10387       10     3.0        2.838086\n",
       "3         0.946029   10387       11     3.0        2.838086\n",
       "4         0.946029   10387       17     3.0        2.838086"
      ]
     },
     "execution_count": 35,
     "metadata": {},
     "output_type": "execute_result"
    }
   ],
   "source": [
    "# Multiplies the similarity by the user's ratings\n",
    "top_users_rating['weightedRating'] = top_users_rating['similarityIndex'] * top_users_rating['rating']\n",
    "top_users_rating.head()"
   ]
  },
  {
   "cell_type": "code",
   "execution_count": 36,
   "metadata": {
    "execution": {
     "iopub.execute_input": "2021-04-02T11:03:21.246318Z",
     "iopub.status.busy": "2021-04-02T11:03:21.245661Z",
     "iopub.status.idle": "2021-04-02T11:03:21.263613Z",
     "shell.execute_reply": "2021-04-02T11:03:21.262995Z"
    },
    "papermill": {
     "duration": 0.062505,
     "end_time": "2021-04-02T11:03:21.263766",
     "exception": false,
     "start_time": "2021-04-02T11:03:21.201261",
     "status": "completed"
    },
    "tags": []
   },
   "outputs": [
    {
     "data": {
      "text/html": [
       "<div>\n",
       "<style scoped>\n",
       "    .dataframe tbody tr th:only-of-type {\n",
       "        vertical-align: middle;\n",
       "    }\n",
       "\n",
       "    .dataframe tbody tr th {\n",
       "        vertical-align: top;\n",
       "    }\n",
       "\n",
       "    .dataframe thead th {\n",
       "        text-align: right;\n",
       "    }\n",
       "</style>\n",
       "<table border=\"1\" class=\"dataframe\">\n",
       "  <thead>\n",
       "    <tr style=\"text-align: right;\">\n",
       "      <th></th>\n",
       "      <th>sum_similarityIndex</th>\n",
       "      <th>sum_weightedRating</th>\n",
       "    </tr>\n",
       "    <tr>\n",
       "      <th>movieId</th>\n",
       "      <th></th>\n",
       "      <th></th>\n",
       "    </tr>\n",
       "  </thead>\n",
       "  <tbody>\n",
       "    <tr>\n",
       "      <th>1</th>\n",
       "      <td>38.821238</td>\n",
       "      <td>146.424613</td>\n",
       "    </tr>\n",
       "    <tr>\n",
       "      <th>2</th>\n",
       "      <td>38.821238</td>\n",
       "      <td>101.191887</td>\n",
       "    </tr>\n",
       "    <tr>\n",
       "      <th>3</th>\n",
       "      <td>13.674659</td>\n",
       "      <td>35.392039</td>\n",
       "    </tr>\n",
       "    <tr>\n",
       "      <th>4</th>\n",
       "      <td>3.586101</td>\n",
       "      <td>9.326486</td>\n",
       "    </tr>\n",
       "    <tr>\n",
       "      <th>5</th>\n",
       "      <td>9.194413</td>\n",
       "      <td>23.109653</td>\n",
       "    </tr>\n",
       "  </tbody>\n",
       "</table>\n",
       "</div>"
      ],
      "text/plain": [
       "         sum_similarityIndex  sum_weightedRating\n",
       "movieId                                         \n",
       "1                  38.821238          146.424613\n",
       "2                  38.821238          101.191887\n",
       "3                  13.674659           35.392039\n",
       "4                   3.586101            9.326486\n",
       "5                   9.194413           23.109653"
      ]
     },
     "execution_count": 36,
     "metadata": {},
     "output_type": "execute_result"
    }
   ],
   "source": [
    "# Applies a sum to the top_users after grouping it up by userId\n",
    "temp_top_users_rating = top_users_rating.groupby('movieId').sum()[['similarityIndex', 'weightedRating']]\n",
    "temp_top_users_rating.columns = ['sum_similarityIndex', 'sum_weightedRating']\n",
    "temp_top_users_rating.head()"
   ]
  },
  {
   "cell_type": "code",
   "execution_count": 37,
   "metadata": {
    "execution": {
     "iopub.execute_input": "2021-04-02T11:03:21.357676Z",
     "iopub.status.busy": "2021-04-02T11:03:21.357047Z",
     "iopub.status.idle": "2021-04-02T11:03:21.361337Z",
     "shell.execute_reply": "2021-04-02T11:03:21.360833Z"
    },
    "papermill": {
     "duration": 0.056346,
     "end_time": "2021-04-02T11:03:21.361506",
     "exception": false,
     "start_time": "2021-04-02T11:03:21.305160",
     "status": "completed"
    },
    "tags": []
   },
   "outputs": [
    {
     "data": {
      "text/html": [
       "<div>\n",
       "<style scoped>\n",
       "    .dataframe tbody tr th:only-of-type {\n",
       "        vertical-align: middle;\n",
       "    }\n",
       "\n",
       "    .dataframe tbody tr th {\n",
       "        vertical-align: top;\n",
       "    }\n",
       "\n",
       "    .dataframe thead th {\n",
       "        text-align: right;\n",
       "    }\n",
       "</style>\n",
       "<table border=\"1\" class=\"dataframe\">\n",
       "  <thead>\n",
       "    <tr style=\"text-align: right;\">\n",
       "      <th></th>\n",
       "      <th>weighted average recommendation score</th>\n",
       "      <th>movieId</th>\n",
       "    </tr>\n",
       "    <tr>\n",
       "      <th>movieId</th>\n",
       "      <th></th>\n",
       "      <th></th>\n",
       "    </tr>\n",
       "  </thead>\n",
       "  <tbody>\n",
       "    <tr>\n",
       "      <th>1</th>\n",
       "      <td>3.771766</td>\n",
       "      <td>1</td>\n",
       "    </tr>\n",
       "    <tr>\n",
       "      <th>2</th>\n",
       "      <td>2.606612</td>\n",
       "      <td>2</td>\n",
       "    </tr>\n",
       "    <tr>\n",
       "      <th>3</th>\n",
       "      <td>2.588148</td>\n",
       "      <td>3</td>\n",
       "    </tr>\n",
       "    <tr>\n",
       "      <th>4</th>\n",
       "      <td>2.600732</td>\n",
       "      <td>4</td>\n",
       "    </tr>\n",
       "    <tr>\n",
       "      <th>5</th>\n",
       "      <td>2.513445</td>\n",
       "      <td>5</td>\n",
       "    </tr>\n",
       "  </tbody>\n",
       "</table>\n",
       "</div>"
      ],
      "text/plain": [
       "         weighted average recommendation score  movieId\n",
       "movieId                                                \n",
       "1                                     3.771766        1\n",
       "2                                     2.606612        2\n",
       "3                                     2.588148        3\n",
       "4                                     2.600732        4\n",
       "5                                     2.513445        5"
      ]
     },
     "execution_count": 37,
     "metadata": {},
     "output_type": "execute_result"
    }
   ],
   "source": [
    "# Creates an empty dataframe\n",
    "recommendation_df = pd.DataFrame()\n",
    "\n",
    "# Now we take the weighted average\n",
    "recommendation_df['weighted average recommendation score'] = temp_top_users_rating['sum_weightedRating'] / temp_top_users_rating['sum_similarityIndex']\n",
    "recommendation_df['movieId'] = temp_top_users_rating.index\n",
    "recommendation_df.head()"
   ]
  },
  {
   "cell_type": "code",
   "execution_count": 38,
   "metadata": {
    "execution": {
     "iopub.execute_input": "2021-04-02T11:03:21.447920Z",
     "iopub.status.busy": "2021-04-02T11:03:21.447272Z",
     "iopub.status.idle": "2021-04-02T11:03:21.464833Z",
     "shell.execute_reply": "2021-04-02T11:03:21.464188Z"
    },
    "papermill": {
     "duration": 0.063641,
     "end_time": "2021-04-02T11:03:21.464980",
     "exception": false,
     "start_time": "2021-04-02T11:03:21.401339",
     "status": "completed"
    },
    "tags": []
   },
   "outputs": [
    {
     "data": {
      "text/html": [
       "<div>\n",
       "<style scoped>\n",
       "    .dataframe tbody tr th:only-of-type {\n",
       "        vertical-align: middle;\n",
       "    }\n",
       "\n",
       "    .dataframe tbody tr th {\n",
       "        vertical-align: top;\n",
       "    }\n",
       "\n",
       "    .dataframe thead th {\n",
       "        text-align: right;\n",
       "    }\n",
       "</style>\n",
       "<table border=\"1\" class=\"dataframe\">\n",
       "  <thead>\n",
       "    <tr style=\"text-align: right;\">\n",
       "      <th></th>\n",
       "      <th>movieId</th>\n",
       "      <th>title</th>\n",
       "      <th>genres</th>\n",
       "      <th>year</th>\n",
       "    </tr>\n",
       "  </thead>\n",
       "  <tbody>\n",
       "    <tr>\n",
       "      <th>1829</th>\n",
       "      <td>1913</td>\n",
       "      <td>Picnic at Hanging Rock</td>\n",
       "      <td>[Drama, Mystery]</td>\n",
       "      <td>1975</td>\n",
       "    </tr>\n",
       "    <tr>\n",
       "      <th>1845</th>\n",
       "      <td>1929</td>\n",
       "      <td>Grand Hotel</td>\n",
       "      <td>[Drama, Romance]</td>\n",
       "      <td>1932</td>\n",
       "    </tr>\n",
       "    <tr>\n",
       "      <th>1850</th>\n",
       "      <td>1934</td>\n",
       "      <td>You Can't Take It with You</td>\n",
       "      <td>[Comedy, Romance]</td>\n",
       "      <td>1938</td>\n",
       "    </tr>\n",
       "    <tr>\n",
       "      <th>4183</th>\n",
       "      <td>4278</td>\n",
       "      <td>Triumph of the Will (Triumph des Willens)</td>\n",
       "      <td>[Documentary]</td>\n",
       "      <td>1934</td>\n",
       "    </tr>\n",
       "    <tr>\n",
       "      <th>4960</th>\n",
       "      <td>5056</td>\n",
       "      <td>Enigma of Kaspar Hauser, The (a.k.a. Mystery o...</td>\n",
       "      <td>[Crime, Drama]</td>\n",
       "      <td>1974</td>\n",
       "    </tr>\n",
       "    <tr>\n",
       "      <th>5192</th>\n",
       "      <td>5289</td>\n",
       "      <td>Body and Soul</td>\n",
       "      <td>[Drama, Film-Noir]</td>\n",
       "      <td>1947</td>\n",
       "    </tr>\n",
       "    <tr>\n",
       "      <th>7863</th>\n",
       "      <td>8516</td>\n",
       "      <td>Matter of Life and Death, A (Stairway to Heaven)</td>\n",
       "      <td>[Drama, Fantasy, Romance]</td>\n",
       "      <td>1946</td>\n",
       "    </tr>\n",
       "    <tr>\n",
       "      <th>8153</th>\n",
       "      <td>8836</td>\n",
       "      <td>Wicker Park</td>\n",
       "      <td>[Drama, Romance, Thriller]</td>\n",
       "      <td>2004</td>\n",
       "    </tr>\n",
       "    <tr>\n",
       "      <th>11598</th>\n",
       "      <td>50742</td>\n",
       "      <td>7 Plus Seven</td>\n",
       "      <td>[Documentary]</td>\n",
       "      <td>1970</td>\n",
       "    </tr>\n",
       "    <tr>\n",
       "      <th>12679</th>\n",
       "      <td>59684</td>\n",
       "      <td>Lake of Fire</td>\n",
       "      <td>[Documentary]</td>\n",
       "      <td>2006</td>\n",
       "    </tr>\n",
       "  </tbody>\n",
       "</table>\n",
       "</div>"
      ],
      "text/plain": [
       "       movieId                                              title  \\\n",
       "1829      1913                             Picnic at Hanging Rock   \n",
       "1845      1929                                        Grand Hotel   \n",
       "1850      1934                         You Can't Take It with You   \n",
       "4183      4278          Triumph of the Will (Triumph des Willens)   \n",
       "4960      5056  Enigma of Kaspar Hauser, The (a.k.a. Mystery o...   \n",
       "5192      5289                                      Body and Soul   \n",
       "7863      8516   Matter of Life and Death, A (Stairway to Heaven)   \n",
       "8153      8836                                        Wicker Park   \n",
       "11598    50742                                       7 Plus Seven   \n",
       "12679    59684                                       Lake of Fire   \n",
       "\n",
       "                           genres  year  \n",
       "1829             [Drama, Mystery]  1975  \n",
       "1845             [Drama, Romance]  1932  \n",
       "1850            [Comedy, Romance]  1938  \n",
       "4183                [Documentary]  1934  \n",
       "4960               [Crime, Drama]  1974  \n",
       "5192           [Drama, Film-Noir]  1947  \n",
       "7863    [Drama, Fantasy, Romance]  1946  \n",
       "8153   [Drama, Romance, Thriller]  2004  \n",
       "11598               [Documentary]  1970  \n",
       "12679               [Documentary]  2006  "
      ]
     },
     "execution_count": 38,
     "metadata": {},
     "output_type": "execute_result"
    }
   ],
   "source": [
    "# Now let's sort it and see the top 20 movies that the algorithm recommended!\n",
    "recommendation_df = recommendation_df.sort_values(by='weighted average recommendation score', ascending=False)\n",
    "recommendation_df.head(10)\n",
    "\n",
    "movies_df.loc[movies_df['movieId'].isin(recommendation_df.head(10)['movieId'].tolist())]"
   ]
  },
  {
   "cell_type": "markdown",
   "metadata": {
    "papermill": {
     "duration": 0.040287,
     "end_time": "2021-04-02T11:03:21.546312",
     "exception": false,
     "start_time": "2021-04-02T11:03:21.506025",
     "status": "completed"
    },
    "tags": []
   },
   "source": [
    "---\n",
    "\n",
    "I'll wrap things up there. If you want to find some other answers then go ahead `edit` this kernel. If you have any `questions` then do let me know.\n",
    "\n",
    "If this kernel helped you then don't forget to 🔼 `upvote` and share your 🎙 `feedback` on improvements of the kernel.\n",
    "\n",
    "![](https://media.giphy.com/media/N2fDcOGHsEEA8/giphy.gif)\n",
    "\n",
    "---"
   ]
  }
 ],
 "metadata": {
  "kernelspec": {
   "display_name": "Python 3",
   "language": "python",
   "name": "python3"
  },
  "language_info": {
   "codemirror_mode": {
    "name": "ipython",
    "version": 3
   },
   "file_extension": ".py",
   "mimetype": "text/x-python",
   "name": "python",
   "nbconvert_exporter": "python",
   "pygments_lexer": "ipython3",
   "version": "3.7.9"
  },
  "papermill": {
   "default_parameters": {},
   "duration": 49.393062,
   "end_time": "2021-04-02T11:03:22.196540",
   "environment_variables": {},
   "exception": null,
   "input_path": "__notebook__.ipynb",
   "output_path": "__notebook__.ipynb",
   "parameters": {},
   "start_time": "2021-04-02T11:02:32.803478",
   "version": "2.2.2"
  }
 },
 "nbformat": 4,
 "nbformat_minor": 4
}
